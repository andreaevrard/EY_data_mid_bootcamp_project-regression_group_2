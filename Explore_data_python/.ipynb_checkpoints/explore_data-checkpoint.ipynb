{
 "cells": [
  {
   "cell_type": "markdown",
   "id": "99f47ea6-eb28-4879-a5dc-1ca74ea0ebfc",
   "metadata": {},
   "source": [
    "# Project details - regression\n",
    "\n",
    "**Background**: You are working as an analyst for a real estate company. Your company wants to build a machine learning model to predict the selling prices of houses based on a variety of features on which the value of the house is evaluated.\n",
    "\n",
    "**Objective**: The task is to build a model that will predict the price of a house based on features provided in the dataset. The senior management also wants to explore the characteristics of the houses using some business intelligence tool. One of those parameters include understanding which factors are responsible for higher property value - \\$650K and above.\n",
    "The questions have been provided later in the document for which you can use tableau.\n",
    "\n",
    "**Data**: The data set consists of information on some 22,000 properties.  The dataset consisted of historic data of houses sold between May 2014 to May 2015.\n",
    "These are the definitions of data points provided:\n",
    "(Note: For some of the variables that are self explanatory, no definition has been provided)\n",
    "\n",
    "- **Id**: Unique identification number for the property.\n",
    "- **date**: date the house was sold.\n",
    "- **price**: price of the house.\n",
    "- **waterfront**: house which has a view to a waterfront.\n",
    "- **condition**: How good the condition is (overall). **1** indicates worn out property and **5** excellent.\n",
    "- **grade**: Overall grade given to the housing unit, based on King County grading system. 1 poor ,13 excellent.\n",
    "- **Sqft_above**: square footage of house apart from basement.\n",
    "- **Sqft_living15**: Living room area in 2015(implies - some renovations). This might or might not have affected the lotsize area.\n",
    "- **Sqft_lot15**: lotSize area in 2015(implies - some renovations).\n",
    "\n",
    "### Exploring the data\n",
    "\n",
    "We encourage you to thoroughly understand your data and take the necessary steps to prepare your data for modeling before building exploratory or predictive models. Since this is a classification model, you can use linear regression for classification for building a model. You are also encouraged to use other models in your project including KNN, decision trees for regression.\n",
    "To explore the data, you can use the techniques that have been discussed in class. Some of them include using the describe method, checking null values, using _matplotlib_ and _seaborn_ for developing visualizations.\n",
    "The data has a number of categorical and numerical variables. Explore the nature of data for these variables before you start with the data cleaning process and then data pre-processing (scaling numerical variables and encoding categorical variables).\n",
    "You will also use powerbi to visually explore the data further.\n",
    "\n",
    "\n",
    "### Model\n",
    "\n",
    "Use different models to compare the accuracies and find the model that best fits your data. You can use the measures of accuracies that have been discussed in class. Please note that while comparing different models, make sure you use the same measure of accuracy as a benchmark.\n"
   ]
  },
  {
   "cell_type": "markdown",
   "id": "d261d63b-8f62-4fc1-840d-de8a3da23e41",
   "metadata": {},
   "source": [
    "### Import data"
   ]
  },
  {
   "cell_type": "code",
   "execution_count": 871,
   "id": "3d00bde7-f2af-4a8f-8271-391ffe0ef838",
   "metadata": {},
   "outputs": [],
   "source": [
    "import pandas as pd\n",
    "import numpy as np"
   ]
  },
  {
   "cell_type": "code",
   "execution_count": 872,
   "id": "c68861b3-58fb-409c-8489-5423602331e3",
   "metadata": {},
   "outputs": [],
   "source": [
    "data = pd.read_csv('./regression_data.csv', header=None)"
   ]
  },
  {
   "cell_type": "code",
   "execution_count": 873,
   "id": "a5a4d36c-fd25-4b03-b042-67fbadd4a580",
   "metadata": {},
   "outputs": [],
   "source": [
    "data.columns = ['id', 'date', 'bedrooms', 'bathrooms', 'sqft_living', 'sqft_lot', 'floors', 'waterfront', 'view', 'condition', 'grade', 'sqft_above', 'sqft_basement', 'yr_built', 'yr_renovated', 'zipcode', 'lat', 'long', 'sqft_living15', 'sqft_lot15', 'price']"
   ]
  },
  {
   "cell_type": "code",
   "execution_count": 874,
   "id": "60e5794e-4406-4e28-9bf3-66c3afd3adee",
   "metadata": {
    "tags": []
   },
   "outputs": [
    {
     "data": {
      "text/html": [
       "<div>\n",
       "<style scoped>\n",
       "    .dataframe tbody tr th:only-of-type {\n",
       "        vertical-align: middle;\n",
       "    }\n",
       "\n",
       "    .dataframe tbody tr th {\n",
       "        vertical-align: top;\n",
       "    }\n",
       "\n",
       "    .dataframe thead th {\n",
       "        text-align: right;\n",
       "    }\n",
       "</style>\n",
       "<table border=\"1\" class=\"dataframe\">\n",
       "  <thead>\n",
       "    <tr style=\"text-align: right;\">\n",
       "      <th></th>\n",
       "      <th>id</th>\n",
       "      <th>date</th>\n",
       "      <th>bedrooms</th>\n",
       "      <th>bathrooms</th>\n",
       "      <th>sqft_living</th>\n",
       "      <th>sqft_lot</th>\n",
       "      <th>floors</th>\n",
       "      <th>waterfront</th>\n",
       "      <th>view</th>\n",
       "      <th>condition</th>\n",
       "      <th>...</th>\n",
       "      <th>sqft_above</th>\n",
       "      <th>sqft_basement</th>\n",
       "      <th>yr_built</th>\n",
       "      <th>yr_renovated</th>\n",
       "      <th>zipcode</th>\n",
       "      <th>lat</th>\n",
       "      <th>long</th>\n",
       "      <th>sqft_living15</th>\n",
       "      <th>sqft_lot15</th>\n",
       "      <th>price</th>\n",
       "    </tr>\n",
       "  </thead>\n",
       "  <tbody>\n",
       "    <tr>\n",
       "      <th>0</th>\n",
       "      <td>7129300520</td>\n",
       "      <td>10/13/14</td>\n",
       "      <td>3</td>\n",
       "      <td>1.00</td>\n",
       "      <td>1180</td>\n",
       "      <td>5650</td>\n",
       "      <td>1.0</td>\n",
       "      <td>0</td>\n",
       "      <td>0</td>\n",
       "      <td>3</td>\n",
       "      <td>...</td>\n",
       "      <td>1180</td>\n",
       "      <td>0</td>\n",
       "      <td>1955</td>\n",
       "      <td>0</td>\n",
       "      <td>98178</td>\n",
       "      <td>47.5112</td>\n",
       "      <td>-122.257</td>\n",
       "      <td>1340</td>\n",
       "      <td>5650</td>\n",
       "      <td>221900</td>\n",
       "    </tr>\n",
       "    <tr>\n",
       "      <th>1</th>\n",
       "      <td>6414100192</td>\n",
       "      <td>12/9/14</td>\n",
       "      <td>3</td>\n",
       "      <td>2.25</td>\n",
       "      <td>2570</td>\n",
       "      <td>7242</td>\n",
       "      <td>2.0</td>\n",
       "      <td>0</td>\n",
       "      <td>0</td>\n",
       "      <td>3</td>\n",
       "      <td>...</td>\n",
       "      <td>2170</td>\n",
       "      <td>400</td>\n",
       "      <td>1951</td>\n",
       "      <td>1991</td>\n",
       "      <td>98125</td>\n",
       "      <td>47.7210</td>\n",
       "      <td>-122.319</td>\n",
       "      <td>1690</td>\n",
       "      <td>7639</td>\n",
       "      <td>538000</td>\n",
       "    </tr>\n",
       "    <tr>\n",
       "      <th>2</th>\n",
       "      <td>5631500400</td>\n",
       "      <td>2/25/15</td>\n",
       "      <td>2</td>\n",
       "      <td>1.00</td>\n",
       "      <td>770</td>\n",
       "      <td>10000</td>\n",
       "      <td>1.0</td>\n",
       "      <td>0</td>\n",
       "      <td>0</td>\n",
       "      <td>3</td>\n",
       "      <td>...</td>\n",
       "      <td>770</td>\n",
       "      <td>0</td>\n",
       "      <td>1933</td>\n",
       "      <td>0</td>\n",
       "      <td>98028</td>\n",
       "      <td>47.7379</td>\n",
       "      <td>-122.233</td>\n",
       "      <td>2720</td>\n",
       "      <td>8062</td>\n",
       "      <td>180000</td>\n",
       "    </tr>\n",
       "    <tr>\n",
       "      <th>3</th>\n",
       "      <td>2487200875</td>\n",
       "      <td>12/9/14</td>\n",
       "      <td>4</td>\n",
       "      <td>3.00</td>\n",
       "      <td>1960</td>\n",
       "      <td>5000</td>\n",
       "      <td>1.0</td>\n",
       "      <td>0</td>\n",
       "      <td>0</td>\n",
       "      <td>5</td>\n",
       "      <td>...</td>\n",
       "      <td>1050</td>\n",
       "      <td>910</td>\n",
       "      <td>1965</td>\n",
       "      <td>0</td>\n",
       "      <td>98136</td>\n",
       "      <td>47.5208</td>\n",
       "      <td>-122.393</td>\n",
       "      <td>1360</td>\n",
       "      <td>5000</td>\n",
       "      <td>604000</td>\n",
       "    </tr>\n",
       "    <tr>\n",
       "      <th>4</th>\n",
       "      <td>1954400510</td>\n",
       "      <td>2/18/15</td>\n",
       "      <td>3</td>\n",
       "      <td>2.00</td>\n",
       "      <td>1680</td>\n",
       "      <td>8080</td>\n",
       "      <td>1.0</td>\n",
       "      <td>0</td>\n",
       "      <td>0</td>\n",
       "      <td>3</td>\n",
       "      <td>...</td>\n",
       "      <td>1680</td>\n",
       "      <td>0</td>\n",
       "      <td>1987</td>\n",
       "      <td>0</td>\n",
       "      <td>98074</td>\n",
       "      <td>47.6168</td>\n",
       "      <td>-122.045</td>\n",
       "      <td>1800</td>\n",
       "      <td>7503</td>\n",
       "      <td>510000</td>\n",
       "    </tr>\n",
       "    <tr>\n",
       "      <th>...</th>\n",
       "      <td>...</td>\n",
       "      <td>...</td>\n",
       "      <td>...</td>\n",
       "      <td>...</td>\n",
       "      <td>...</td>\n",
       "      <td>...</td>\n",
       "      <td>...</td>\n",
       "      <td>...</td>\n",
       "      <td>...</td>\n",
       "      <td>...</td>\n",
       "      <td>...</td>\n",
       "      <td>...</td>\n",
       "      <td>...</td>\n",
       "      <td>...</td>\n",
       "      <td>...</td>\n",
       "      <td>...</td>\n",
       "      <td>...</td>\n",
       "      <td>...</td>\n",
       "      <td>...</td>\n",
       "      <td>...</td>\n",
       "      <td>...</td>\n",
       "    </tr>\n",
       "    <tr>\n",
       "      <th>21592</th>\n",
       "      <td>263000018</td>\n",
       "      <td>5/21/14</td>\n",
       "      <td>3</td>\n",
       "      <td>2.50</td>\n",
       "      <td>1530</td>\n",
       "      <td>1131</td>\n",
       "      <td>3.0</td>\n",
       "      <td>0</td>\n",
       "      <td>0</td>\n",
       "      <td>3</td>\n",
       "      <td>...</td>\n",
       "      <td>1530</td>\n",
       "      <td>0</td>\n",
       "      <td>2009</td>\n",
       "      <td>0</td>\n",
       "      <td>98103</td>\n",
       "      <td>47.6993</td>\n",
       "      <td>-122.346</td>\n",
       "      <td>1530</td>\n",
       "      <td>1509</td>\n",
       "      <td>360000</td>\n",
       "    </tr>\n",
       "    <tr>\n",
       "      <th>21593</th>\n",
       "      <td>6600060120</td>\n",
       "      <td>2/23/15</td>\n",
       "      <td>4</td>\n",
       "      <td>2.50</td>\n",
       "      <td>2310</td>\n",
       "      <td>5813</td>\n",
       "      <td>2.0</td>\n",
       "      <td>0</td>\n",
       "      <td>0</td>\n",
       "      <td>3</td>\n",
       "      <td>...</td>\n",
       "      <td>2310</td>\n",
       "      <td>0</td>\n",
       "      <td>2014</td>\n",
       "      <td>0</td>\n",
       "      <td>98146</td>\n",
       "      <td>47.5107</td>\n",
       "      <td>-122.362</td>\n",
       "      <td>1830</td>\n",
       "      <td>7200</td>\n",
       "      <td>400000</td>\n",
       "    </tr>\n",
       "    <tr>\n",
       "      <th>21594</th>\n",
       "      <td>1523300141</td>\n",
       "      <td>6/23/14</td>\n",
       "      <td>2</td>\n",
       "      <td>0.75</td>\n",
       "      <td>1020</td>\n",
       "      <td>1350</td>\n",
       "      <td>2.0</td>\n",
       "      <td>0</td>\n",
       "      <td>0</td>\n",
       "      <td>3</td>\n",
       "      <td>...</td>\n",
       "      <td>1020</td>\n",
       "      <td>0</td>\n",
       "      <td>2009</td>\n",
       "      <td>0</td>\n",
       "      <td>98144</td>\n",
       "      <td>47.5944</td>\n",
       "      <td>-122.299</td>\n",
       "      <td>1020</td>\n",
       "      <td>2007</td>\n",
       "      <td>402101</td>\n",
       "    </tr>\n",
       "    <tr>\n",
       "      <th>21595</th>\n",
       "      <td>291310100</td>\n",
       "      <td>1/16/15</td>\n",
       "      <td>3</td>\n",
       "      <td>2.50</td>\n",
       "      <td>1600</td>\n",
       "      <td>2388</td>\n",
       "      <td>2.0</td>\n",
       "      <td>0</td>\n",
       "      <td>0</td>\n",
       "      <td>3</td>\n",
       "      <td>...</td>\n",
       "      <td>1600</td>\n",
       "      <td>0</td>\n",
       "      <td>2004</td>\n",
       "      <td>0</td>\n",
       "      <td>98027</td>\n",
       "      <td>47.5345</td>\n",
       "      <td>-122.069</td>\n",
       "      <td>1410</td>\n",
       "      <td>1287</td>\n",
       "      <td>400000</td>\n",
       "    </tr>\n",
       "    <tr>\n",
       "      <th>21596</th>\n",
       "      <td>1523300157</td>\n",
       "      <td>10/15/14</td>\n",
       "      <td>2</td>\n",
       "      <td>0.75</td>\n",
       "      <td>1020</td>\n",
       "      <td>1076</td>\n",
       "      <td>2.0</td>\n",
       "      <td>0</td>\n",
       "      <td>0</td>\n",
       "      <td>3</td>\n",
       "      <td>...</td>\n",
       "      <td>1020</td>\n",
       "      <td>0</td>\n",
       "      <td>2008</td>\n",
       "      <td>0</td>\n",
       "      <td>98144</td>\n",
       "      <td>47.5941</td>\n",
       "      <td>-122.299</td>\n",
       "      <td>1020</td>\n",
       "      <td>1357</td>\n",
       "      <td>325000</td>\n",
       "    </tr>\n",
       "  </tbody>\n",
       "</table>\n",
       "<p>21597 rows × 21 columns</p>\n",
       "</div>"
      ],
      "text/plain": [
       "               id      date  bedrooms  bathrooms  sqft_living  sqft_lot  \\\n",
       "0      7129300520  10/13/14         3       1.00         1180      5650   \n",
       "1      6414100192   12/9/14         3       2.25         2570      7242   \n",
       "2      5631500400   2/25/15         2       1.00          770     10000   \n",
       "3      2487200875   12/9/14         4       3.00         1960      5000   \n",
       "4      1954400510   2/18/15         3       2.00         1680      8080   \n",
       "...           ...       ...       ...        ...          ...       ...   \n",
       "21592   263000018   5/21/14         3       2.50         1530      1131   \n",
       "21593  6600060120   2/23/15         4       2.50         2310      5813   \n",
       "21594  1523300141   6/23/14         2       0.75         1020      1350   \n",
       "21595   291310100   1/16/15         3       2.50         1600      2388   \n",
       "21596  1523300157  10/15/14         2       0.75         1020      1076   \n",
       "\n",
       "       floors  waterfront  view  condition  ...  sqft_above  sqft_basement  \\\n",
       "0         1.0           0     0          3  ...        1180              0   \n",
       "1         2.0           0     0          3  ...        2170            400   \n",
       "2         1.0           0     0          3  ...         770              0   \n",
       "3         1.0           0     0          5  ...        1050            910   \n",
       "4         1.0           0     0          3  ...        1680              0   \n",
       "...       ...         ...   ...        ...  ...         ...            ...   \n",
       "21592     3.0           0     0          3  ...        1530              0   \n",
       "21593     2.0           0     0          3  ...        2310              0   \n",
       "21594     2.0           0     0          3  ...        1020              0   \n",
       "21595     2.0           0     0          3  ...        1600              0   \n",
       "21596     2.0           0     0          3  ...        1020              0   \n",
       "\n",
       "       yr_built  yr_renovated  zipcode      lat     long  sqft_living15  \\\n",
       "0          1955             0    98178  47.5112 -122.257           1340   \n",
       "1          1951          1991    98125  47.7210 -122.319           1690   \n",
       "2          1933             0    98028  47.7379 -122.233           2720   \n",
       "3          1965             0    98136  47.5208 -122.393           1360   \n",
       "4          1987             0    98074  47.6168 -122.045           1800   \n",
       "...         ...           ...      ...      ...      ...            ...   \n",
       "21592      2009             0    98103  47.6993 -122.346           1530   \n",
       "21593      2014             0    98146  47.5107 -122.362           1830   \n",
       "21594      2009             0    98144  47.5944 -122.299           1020   \n",
       "21595      2004             0    98027  47.5345 -122.069           1410   \n",
       "21596      2008             0    98144  47.5941 -122.299           1020   \n",
       "\n",
       "       sqft_lot15   price  \n",
       "0            5650  221900  \n",
       "1            7639  538000  \n",
       "2            8062  180000  \n",
       "3            5000  604000  \n",
       "4            7503  510000  \n",
       "...           ...     ...  \n",
       "21592        1509  360000  \n",
       "21593        7200  400000  \n",
       "21594        2007  402101  \n",
       "21595        1287  400000  \n",
       "21596        1357  325000  \n",
       "\n",
       "[21597 rows x 21 columns]"
      ]
     },
     "execution_count": 874,
     "metadata": {},
     "output_type": "execute_result"
    }
   ],
   "source": [
    "data"
   ]
  },
  {
   "cell_type": "markdown",
   "id": "0d77731d-f638-4c40-86bd-bfe8ee189732",
   "metadata": {},
   "source": [
    "### Data types"
   ]
  },
  {
   "cell_type": "code",
   "execution_count": 875,
   "id": "15e32c9f-4865-478a-8c08-a795c9f9dfdf",
   "metadata": {},
   "outputs": [
    {
     "data": {
      "text/plain": [
       "id                 int64\n",
       "date              object\n",
       "bedrooms           int64\n",
       "bathrooms        float64\n",
       "sqft_living        int64\n",
       "sqft_lot           int64\n",
       "floors           float64\n",
       "waterfront         int64\n",
       "view               int64\n",
       "condition          int64\n",
       "grade              int64\n",
       "sqft_above         int64\n",
       "sqft_basement      int64\n",
       "yr_built           int64\n",
       "yr_renovated       int64\n",
       "zipcode            int64\n",
       "lat              float64\n",
       "long             float64\n",
       "sqft_living15      int64\n",
       "sqft_lot15         int64\n",
       "price              int64\n",
       "dtype: object"
      ]
     },
     "execution_count": 875,
     "metadata": {},
     "output_type": "execute_result"
    }
   ],
   "source": [
    "data.dtypes"
   ]
  },
  {
   "cell_type": "markdown",
   "id": "c8008879-dadb-4bcd-a9de-0896fb46cd80",
   "metadata": {},
   "source": [
    "### Data cleaning"
   ]
  },
  {
   "cell_type": "code",
   "execution_count": 876,
   "id": "35ddea64-4f8a-40df-b855-9db3800adaee",
   "metadata": {},
   "outputs": [],
   "source": [
    "deleted = ['id', 'date']\n",
    "years = ['yr_built', 'yr_renovated']\n",
    "categoricals = ['bedrooms', 'bathrooms', 'floors', 'waterfront', 'view', 'grade', 'condition']\n",
    "numericals = ['sqft_above', 'sqft_basement', 'sqft_lot', 'yr_renovated', 'sqft_living', 'yr_built', 'sqft_living15', 'sqft_lot15',  'lat', 'long', 'zipcode']"
   ]
  },
  {
   "cell_type": "code",
   "execution_count": 877,
   "id": "45e7285d-3927-4ba1-abc2-0f8f0cb45e53",
   "metadata": {},
   "outputs": [
    {
     "data": {
      "image/png": "[encoded data removed]",
      "text/plain": [
       "<Figure size 720x576 with 2 Axes>"
      ]
     },
     "metadata": {
      "needs_background": "light"
     },
     "output_type": "display_data"
    }
   ],
   "source": [
    "import seaborn as sns\n",
    "import matplotlib.pyplot as plt\n",
    "correlations_matrix = data.corr()\n",
    "mask = np.zeros_like(correlations_matrix)\n",
    "mask[np.triu_indices_from(mask)] = True\n",
    "fig, ax = plt.subplots(figsize=(10, 8))\n",
    "ax = sns.heatmap(correlations_matrix, mask=mask, annot=True)\n",
    "plt.show()"
   ]
  },
  {
   "cell_type": "code",
   "execution_count": 878,
   "id": "7e6c1c4a-01c6-489e-9f49-1bd35844a8f4",
   "metadata": {},
   "outputs": [
    {
     "name": "stdout",
     "output_type": "stream",
     "text": [
      "          feature           VIF\n",
      "0        bedrooms  2.314550e+01\n",
      "1       bathrooms  2.871418e+01\n",
      "2          floors  1.676986e+01\n",
      "3      sqft_above  2.786589e+01\n",
      "4   sqft_basement  2.774820e+00\n",
      "5        sqft_lot  2.372435e+00\n",
      "6        yr_built  8.622470e+03\n",
      "7           grade  1.470907e+02\n",
      "8    yr_renovated  1.156869e+00\n",
      "9   sqft_living15  2.656783e+01\n",
      "10     sqft_lot15  2.594728e+00\n",
      "11            lat  1.371851e+05\n",
      "12           long  1.359809e+06\n",
      "13        zipcode  1.632553e+06\n"
     ]
    }
   ],
   "source": [
    "from statsmodels.stats.outliers_influence import variance_inflation_factor\n",
    "X = data[['bedrooms', 'bathrooms', 'floors', 'sqft_above', 'sqft_basement', 'sqft_lot', 'yr_built', 'grade', 'yr_renovated', 'sqft_living15', 'sqft_lot15',  'lat', 'long', 'zipcode']]\n",
    "\n",
    "# VIF dataframe\n",
    "vif_data = pd.DataFrame()\n",
    "vif_data[\"feature\"] = X.columns\n",
    "\n",
    "# calculating VIF for each feature\n",
    "vif_data[\"VIF\"] = [variance_inflation_factor(X.values, i)\n",
    "                        for i in range(len(X.columns))]\n",
    "\n",
    "print(vif_data)"
   ]
  },
  {
   "cell_type": "markdown",
   "id": "a51477ae-0e95-444a-b287-16c07e246e20",
   "metadata": {
    "tags": []
   },
   "source": [
    "#### Deleted"
   ]
  },
  {
   "cell_type": "code",
   "execution_count": 879,
   "id": "d1949609-b8f2-47d6-be42-08d552f8306a",
   "metadata": {},
   "outputs": [
    {
     "data": {
      "text/html": [
       "<div>\n",
       "<style scoped>\n",
       "    .dataframe tbody tr th:only-of-type {\n",
       "        vertical-align: middle;\n",
       "    }\n",
       "\n",
       "    .dataframe tbody tr th {\n",
       "        vertical-align: top;\n",
       "    }\n",
       "\n",
       "    .dataframe thead th {\n",
       "        text-align: right;\n",
       "    }\n",
       "</style>\n",
       "<table border=\"1\" class=\"dataframe\">\n",
       "  <thead>\n",
       "    <tr style=\"text-align: right;\">\n",
       "      <th></th>\n",
       "      <th>bedrooms</th>\n",
       "      <th>bathrooms</th>\n",
       "      <th>sqft_living</th>\n",
       "      <th>sqft_lot</th>\n",
       "      <th>floors</th>\n",
       "      <th>waterfront</th>\n",
       "      <th>view</th>\n",
       "      <th>condition</th>\n",
       "      <th>grade</th>\n",
       "      <th>sqft_above</th>\n",
       "      <th>sqft_basement</th>\n",
       "      <th>yr_built</th>\n",
       "      <th>yr_renovated</th>\n",
       "      <th>zipcode</th>\n",
       "      <th>lat</th>\n",
       "      <th>long</th>\n",
       "      <th>sqft_living15</th>\n",
       "      <th>sqft_lot15</th>\n",
       "      <th>price</th>\n",
       "    </tr>\n",
       "  </thead>\n",
       "  <tbody>\n",
       "    <tr>\n",
       "      <th>0</th>\n",
       "      <td>3</td>\n",
       "      <td>1.00</td>\n",
       "      <td>1180</td>\n",
       "      <td>5650</td>\n",
       "      <td>1.0</td>\n",
       "      <td>0</td>\n",
       "      <td>0</td>\n",
       "      <td>3</td>\n",
       "      <td>7</td>\n",
       "      <td>1180</td>\n",
       "      <td>0</td>\n",
       "      <td>1955</td>\n",
       "      <td>0</td>\n",
       "      <td>98178</td>\n",
       "      <td>47.5112</td>\n",
       "      <td>-122.257</td>\n",
       "      <td>1340</td>\n",
       "      <td>5650</td>\n",
       "      <td>221900</td>\n",
       "    </tr>\n",
       "    <tr>\n",
       "      <th>1</th>\n",
       "      <td>3</td>\n",
       "      <td>2.25</td>\n",
       "      <td>2570</td>\n",
       "      <td>7242</td>\n",
       "      <td>2.0</td>\n",
       "      <td>0</td>\n",
       "      <td>0</td>\n",
       "      <td>3</td>\n",
       "      <td>7</td>\n",
       "      <td>2170</td>\n",
       "      <td>400</td>\n",
       "      <td>1951</td>\n",
       "      <td>1991</td>\n",
       "      <td>98125</td>\n",
       "      <td>47.7210</td>\n",
       "      <td>-122.319</td>\n",
       "      <td>1690</td>\n",
       "      <td>7639</td>\n",
       "      <td>538000</td>\n",
       "    </tr>\n",
       "    <tr>\n",
       "      <th>2</th>\n",
       "      <td>2</td>\n",
       "      <td>1.00</td>\n",
       "      <td>770</td>\n",
       "      <td>10000</td>\n",
       "      <td>1.0</td>\n",
       "      <td>0</td>\n",
       "      <td>0</td>\n",
       "      <td>3</td>\n",
       "      <td>6</td>\n",
       "      <td>770</td>\n",
       "      <td>0</td>\n",
       "      <td>1933</td>\n",
       "      <td>0</td>\n",
       "      <td>98028</td>\n",
       "      <td>47.7379</td>\n",
       "      <td>-122.233</td>\n",
       "      <td>2720</td>\n",
       "      <td>8062</td>\n",
       "      <td>180000</td>\n",
       "    </tr>\n",
       "    <tr>\n",
       "      <th>3</th>\n",
       "      <td>4</td>\n",
       "      <td>3.00</td>\n",
       "      <td>1960</td>\n",
       "      <td>5000</td>\n",
       "      <td>1.0</td>\n",
       "      <td>0</td>\n",
       "      <td>0</td>\n",
       "      <td>5</td>\n",
       "      <td>7</td>\n",
       "      <td>1050</td>\n",
       "      <td>910</td>\n",
       "      <td>1965</td>\n",
       "      <td>0</td>\n",
       "      <td>98136</td>\n",
       "      <td>47.5208</td>\n",
       "      <td>-122.393</td>\n",
       "      <td>1360</td>\n",
       "      <td>5000</td>\n",
       "      <td>604000</td>\n",
       "    </tr>\n",
       "    <tr>\n",
       "      <th>4</th>\n",
       "      <td>3</td>\n",
       "      <td>2.00</td>\n",
       "      <td>1680</td>\n",
       "      <td>8080</td>\n",
       "      <td>1.0</td>\n",
       "      <td>0</td>\n",
       "      <td>0</td>\n",
       "      <td>3</td>\n",
       "      <td>8</td>\n",
       "      <td>1680</td>\n",
       "      <td>0</td>\n",
       "      <td>1987</td>\n",
       "      <td>0</td>\n",
       "      <td>98074</td>\n",
       "      <td>47.6168</td>\n",
       "      <td>-122.045</td>\n",
       "      <td>1800</td>\n",
       "      <td>7503</td>\n",
       "      <td>510000</td>\n",
       "    </tr>\n",
       "    <tr>\n",
       "      <th>...</th>\n",
       "      <td>...</td>\n",
       "      <td>...</td>\n",
       "      <td>...</td>\n",
       "      <td>...</td>\n",
       "      <td>...</td>\n",
       "      <td>...</td>\n",
       "      <td>...</td>\n",
       "      <td>...</td>\n",
       "      <td>...</td>\n",
       "      <td>...</td>\n",
       "      <td>...</td>\n",
       "      <td>...</td>\n",
       "      <td>...</td>\n",
       "      <td>...</td>\n",
       "      <td>...</td>\n",
       "      <td>...</td>\n",
       "      <td>...</td>\n",
       "      <td>...</td>\n",
       "      <td>...</td>\n",
       "    </tr>\n",
       "    <tr>\n",
       "      <th>21592</th>\n",
       "      <td>3</td>\n",
       "      <td>2.50</td>\n",
       "      <td>1530</td>\n",
       "      <td>1131</td>\n",
       "      <td>3.0</td>\n",
       "      <td>0</td>\n",
       "      <td>0</td>\n",
       "      <td>3</td>\n",
       "      <td>8</td>\n",
       "      <td>1530</td>\n",
       "      <td>0</td>\n",
       "      <td>2009</td>\n",
       "      <td>0</td>\n",
       "      <td>98103</td>\n",
       "      <td>47.6993</td>\n",
       "      <td>-122.346</td>\n",
       "      <td>1530</td>\n",
       "      <td>1509</td>\n",
       "      <td>360000</td>\n",
       "    </tr>\n",
       "    <tr>\n",
       "      <th>21593</th>\n",
       "      <td>4</td>\n",
       "      <td>2.50</td>\n",
       "      <td>2310</td>\n",
       "      <td>5813</td>\n",
       "      <td>2.0</td>\n",
       "      <td>0</td>\n",
       "      <td>0</td>\n",
       "      <td>3</td>\n",
       "      <td>8</td>\n",
       "      <td>2310</td>\n",
       "      <td>0</td>\n",
       "      <td>2014</td>\n",
       "      <td>0</td>\n",
       "      <td>98146</td>\n",
       "      <td>47.5107</td>\n",
       "      <td>-122.362</td>\n",
       "      <td>1830</td>\n",
       "      <td>7200</td>\n",
       "      <td>400000</td>\n",
       "    </tr>\n",
       "    <tr>\n",
       "      <th>21594</th>\n",
       "      <td>2</td>\n",
       "      <td>0.75</td>\n",
       "      <td>1020</td>\n",
       "      <td>1350</td>\n",
       "      <td>2.0</td>\n",
       "      <td>0</td>\n",
       "      <td>0</td>\n",
       "      <td>3</td>\n",
       "      <td>7</td>\n",
       "      <td>1020</td>\n",
       "      <td>0</td>\n",
       "      <td>2009</td>\n",
       "      <td>0</td>\n",
       "      <td>98144</td>\n",
       "      <td>47.5944</td>\n",
       "      <td>-122.299</td>\n",
       "      <td>1020</td>\n",
       "      <td>2007</td>\n",
       "      <td>402101</td>\n",
       "    </tr>\n",
       "    <tr>\n",
       "      <th>21595</th>\n",
       "      <td>3</td>\n",
       "      <td>2.50</td>\n",
       "      <td>1600</td>\n",
       "      <td>2388</td>\n",
       "      <td>2.0</td>\n",
       "      <td>0</td>\n",
       "      <td>0</td>\n",
       "      <td>3</td>\n",
       "      <td>8</td>\n",
       "      <td>1600</td>\n",
       "      <td>0</td>\n",
       "      <td>2004</td>\n",
       "      <td>0</td>\n",
       "      <td>98027</td>\n",
       "      <td>47.5345</td>\n",
       "      <td>-122.069</td>\n",
       "      <td>1410</td>\n",
       "      <td>1287</td>\n",
       "      <td>400000</td>\n",
       "    </tr>\n",
       "    <tr>\n",
       "      <th>21596</th>\n",
       "      <td>2</td>\n",
       "      <td>0.75</td>\n",
       "      <td>1020</td>\n",
       "      <td>1076</td>\n",
       "      <td>2.0</td>\n",
       "      <td>0</td>\n",
       "      <td>0</td>\n",
       "      <td>3</td>\n",
       "      <td>7</td>\n",
       "      <td>1020</td>\n",
       "      <td>0</td>\n",
       "      <td>2008</td>\n",
       "      <td>0</td>\n",
       "      <td>98144</td>\n",
       "      <td>47.5941</td>\n",
       "      <td>-122.299</td>\n",
       "      <td>1020</td>\n",
       "      <td>1357</td>\n",
       "      <td>325000</td>\n",
       "    </tr>\n",
       "  </tbody>\n",
       "</table>\n",
       "<p>21597 rows × 19 columns</p>\n",
       "</div>"
      ],
      "text/plain": [
       "       bedrooms  bathrooms  sqft_living  sqft_lot  floors  waterfront  view  \\\n",
       "0             3       1.00         1180      5650     1.0           0     0   \n",
       "1             3       2.25         2570      7242     2.0           0     0   \n",
       "2             2       1.00          770     10000     1.0           0     0   \n",
       "3             4       3.00         1960      5000     1.0           0     0   \n",
       "4             3       2.00         1680      8080     1.0           0     0   \n",
       "...         ...        ...          ...       ...     ...         ...   ...   \n",
       "21592         3       2.50         1530      1131     3.0           0     0   \n",
       "21593         4       2.50         2310      5813     2.0           0     0   \n",
       "21594         2       0.75         1020      1350     2.0           0     0   \n",
       "21595         3       2.50         1600      2388     2.0           0     0   \n",
       "21596         2       0.75         1020      1076     2.0           0     0   \n",
       "\n",
       "       condition  grade  sqft_above  sqft_basement  yr_built  yr_renovated  \\\n",
       "0              3      7        1180              0      1955             0   \n",
       "1              3      7        2170            400      1951          1991   \n",
       "2              3      6         770              0      1933             0   \n",
       "3              5      7        1050            910      1965             0   \n",
       "4              3      8        1680              0      1987             0   \n",
       "...          ...    ...         ...            ...       ...           ...   \n",
       "21592          3      8        1530              0      2009             0   \n",
       "21593          3      8        2310              0      2014             0   \n",
       "21594          3      7        1020              0      2009             0   \n",
       "21595          3      8        1600              0      2004             0   \n",
       "21596          3      7        1020              0      2008             0   \n",
       "\n",
       "       zipcode      lat     long  sqft_living15  sqft_lot15   price  \n",
       "0        98178  47.5112 -122.257           1340        5650  221900  \n",
       "1        98125  47.7210 -122.319           1690        7639  538000  \n",
       "2        98028  47.7379 -122.233           2720        8062  180000  \n",
       "3        98136  47.5208 -122.393           1360        5000  604000  \n",
       "4        98074  47.6168 -122.045           1800        7503  510000  \n",
       "...        ...      ...      ...            ...         ...     ...  \n",
       "21592    98103  47.6993 -122.346           1530        1509  360000  \n",
       "21593    98146  47.5107 -122.362           1830        7200  400000  \n",
       "21594    98144  47.5944 -122.299           1020        2007  402101  \n",
       "21595    98027  47.5345 -122.069           1410        1287  400000  \n",
       "21596    98144  47.5941 -122.299           1020        1357  325000  \n",
       "\n",
       "[21597 rows x 19 columns]"
      ]
     },
     "execution_count": 879,
     "metadata": {},
     "output_type": "execute_result"
    }
   ],
   "source": [
    "data = data.drop(columns = ['id', 'date'])\n",
    "data"
   ]
  },
  {
   "cell_type": "markdown",
   "id": "7e20bea3-7be0-4a45-a7d9-7b4e56669a65",
   "metadata": {
    "tags": []
   },
   "source": [
    "#### Transform date"
   ]
  },
  {
   "cell_type": "code",
   "execution_count": 834,
   "id": "778e7738-ba0b-4e3c-9417-ab5544d6bc9c",
   "metadata": {},
   "outputs": [],
   "source": [
    "data['yr_renovated'] = pd.to_datetime(data['yr_renovated'], errors='coerce')\n",
    "data['yr_renovated']=pd.DatetimeIndex(data['yr_renovated']).year"
   ]
  },
  {
   "cell_type": "code",
   "execution_count": 834,
   "id": "34e1a23c-5aa9-466f-a2b5-9ebaee9e719f",
   "metadata": {},
   "outputs": [],
   "source": [
    "data['yr_built'] = pd.to_datetime(data['yr_built'], errors='coerce')\n",
    "data['yr_built']=pd.DatetimeIndex(data['yr_built']).year"
   ]
  },
  {
   "cell_type": "markdown",
   "id": "27d86d2a-e13f-4d96-bd6c-11befb4575fc",
   "metadata": {
    "tags": []
   },
   "source": [
    "#### Transform to categoricals"
   ]
  },
  {
   "cell_type": "code",
   "execution_count": 880,
   "id": "94474e54-ce8e-4acf-ad2b-01a7573d99d7",
   "metadata": {},
   "outputs": [],
   "source": [
    "for i in categoricals:\n",
    "    data[i] = data[i].astype(object)"
   ]
  },
  {
   "cell_type": "code",
   "execution_count": 881,
   "id": "e16538d6-1042-4363-97df-5406a264b867",
   "metadata": {},
   "outputs": [
    {
     "data": {
      "text/plain": [
       "bedrooms          object\n",
       "bathrooms         object\n",
       "sqft_living        int64\n",
       "sqft_lot           int64\n",
       "floors            object\n",
       "waterfront        object\n",
       "view              object\n",
       "condition         object\n",
       "grade             object\n",
       "sqft_above         int64\n",
       "sqft_basement      int64\n",
       "yr_built           int64\n",
       "yr_renovated       int64\n",
       "zipcode            int64\n",
       "lat              float64\n",
       "long             float64\n",
       "sqft_living15      int64\n",
       "sqft_lot15         int64\n",
       "price              int64\n",
       "dtype: object"
      ]
     },
     "execution_count": 881,
     "metadata": {},
     "output_type": "execute_result"
    }
   ],
   "source": [
    "data.dtypes"
   ]
  },
  {
   "cell_type": "code",
   "execution_count": 882,
   "id": "b86f7f75-f065-4a41-8df0-c30f4796da4a",
   "metadata": {},
   "outputs": [
    {
     "data": {
      "text/html": [
       "<div>\n",
       "<style scoped>\n",
       "    .dataframe tbody tr th:only-of-type {\n",
       "        vertical-align: middle;\n",
       "    }\n",
       "\n",
       "    .dataframe tbody tr th {\n",
       "        vertical-align: top;\n",
       "    }\n",
       "\n",
       "    .dataframe thead th {\n",
       "        text-align: right;\n",
       "    }\n",
       "</style>\n",
       "<table border=\"1\" class=\"dataframe\">\n",
       "  <thead>\n",
       "    <tr style=\"text-align: right;\">\n",
       "      <th></th>\n",
       "      <th>bedrooms</th>\n",
       "      <th>bathrooms</th>\n",
       "      <th>sqft_living</th>\n",
       "      <th>sqft_lot</th>\n",
       "      <th>floors</th>\n",
       "      <th>waterfront</th>\n",
       "      <th>view</th>\n",
       "      <th>condition</th>\n",
       "      <th>grade</th>\n",
       "      <th>sqft_above</th>\n",
       "      <th>sqft_basement</th>\n",
       "      <th>yr_built</th>\n",
       "      <th>yr_renovated</th>\n",
       "      <th>zipcode</th>\n",
       "      <th>lat</th>\n",
       "      <th>long</th>\n",
       "      <th>sqft_living15</th>\n",
       "      <th>sqft_lot15</th>\n",
       "      <th>price</th>\n",
       "    </tr>\n",
       "  </thead>\n",
       "  <tbody>\n",
       "    <tr>\n",
       "      <th>0</th>\n",
       "      <td>3</td>\n",
       "      <td>1.0</td>\n",
       "      <td>1180</td>\n",
       "      <td>5650</td>\n",
       "      <td>1.0</td>\n",
       "      <td>0</td>\n",
       "      <td>0</td>\n",
       "      <td>3</td>\n",
       "      <td>7</td>\n",
       "      <td>1180</td>\n",
       "      <td>0</td>\n",
       "      <td>1955</td>\n",
       "      <td>0</td>\n",
       "      <td>98178</td>\n",
       "      <td>47.5112</td>\n",
       "      <td>-122.257</td>\n",
       "      <td>1340</td>\n",
       "      <td>5650</td>\n",
       "      <td>221900</td>\n",
       "    </tr>\n",
       "    <tr>\n",
       "      <th>1</th>\n",
       "      <td>3</td>\n",
       "      <td>2.25</td>\n",
       "      <td>2570</td>\n",
       "      <td>7242</td>\n",
       "      <td>2.0</td>\n",
       "      <td>0</td>\n",
       "      <td>0</td>\n",
       "      <td>3</td>\n",
       "      <td>7</td>\n",
       "      <td>2170</td>\n",
       "      <td>400</td>\n",
       "      <td>1951</td>\n",
       "      <td>1991</td>\n",
       "      <td>98125</td>\n",
       "      <td>47.7210</td>\n",
       "      <td>-122.319</td>\n",
       "      <td>1690</td>\n",
       "      <td>7639</td>\n",
       "      <td>538000</td>\n",
       "    </tr>\n",
       "    <tr>\n",
       "      <th>2</th>\n",
       "      <td>2</td>\n",
       "      <td>1.0</td>\n",
       "      <td>770</td>\n",
       "      <td>10000</td>\n",
       "      <td>1.0</td>\n",
       "      <td>0</td>\n",
       "      <td>0</td>\n",
       "      <td>3</td>\n",
       "      <td>6</td>\n",
       "      <td>770</td>\n",
       "      <td>0</td>\n",
       "      <td>1933</td>\n",
       "      <td>0</td>\n",
       "      <td>98028</td>\n",
       "      <td>47.7379</td>\n",
       "      <td>-122.233</td>\n",
       "      <td>2720</td>\n",
       "      <td>8062</td>\n",
       "      <td>180000</td>\n",
       "    </tr>\n",
       "    <tr>\n",
       "      <th>3</th>\n",
       "      <td>4</td>\n",
       "      <td>3.0</td>\n",
       "      <td>1960</td>\n",
       "      <td>5000</td>\n",
       "      <td>1.0</td>\n",
       "      <td>0</td>\n",
       "      <td>0</td>\n",
       "      <td>5</td>\n",
       "      <td>7</td>\n",
       "      <td>1050</td>\n",
       "      <td>910</td>\n",
       "      <td>1965</td>\n",
       "      <td>0</td>\n",
       "      <td>98136</td>\n",
       "      <td>47.5208</td>\n",
       "      <td>-122.393</td>\n",
       "      <td>1360</td>\n",
       "      <td>5000</td>\n",
       "      <td>604000</td>\n",
       "    </tr>\n",
       "    <tr>\n",
       "      <th>4</th>\n",
       "      <td>3</td>\n",
       "      <td>2.0</td>\n",
       "      <td>1680</td>\n",
       "      <td>8080</td>\n",
       "      <td>1.0</td>\n",
       "      <td>0</td>\n",
       "      <td>0</td>\n",
       "      <td>3</td>\n",
       "      <td>8</td>\n",
       "      <td>1680</td>\n",
       "      <td>0</td>\n",
       "      <td>1987</td>\n",
       "      <td>0</td>\n",
       "      <td>98074</td>\n",
       "      <td>47.6168</td>\n",
       "      <td>-122.045</td>\n",
       "      <td>1800</td>\n",
       "      <td>7503</td>\n",
       "      <td>510000</td>\n",
       "    </tr>\n",
       "  </tbody>\n",
       "</table>\n",
       "</div>"
      ],
      "text/plain": [
       "  bedrooms bathrooms  sqft_living  sqft_lot floors waterfront view condition  \\\n",
       "0        3       1.0         1180      5650    1.0          0    0         3   \n",
       "1        3      2.25         2570      7242    2.0          0    0         3   \n",
       "2        2       1.0          770     10000    1.0          0    0         3   \n",
       "3        4       3.0         1960      5000    1.0          0    0         5   \n",
       "4        3       2.0         1680      8080    1.0          0    0         3   \n",
       "\n",
       "  grade  sqft_above  sqft_basement  yr_built  yr_renovated  zipcode      lat  \\\n",
       "0     7        1180              0      1955             0    98178  47.5112   \n",
       "1     7        2170            400      1951          1991    98125  47.7210   \n",
       "2     6         770              0      1933             0    98028  47.7379   \n",
       "3     7        1050            910      1965             0    98136  47.5208   \n",
       "4     8        1680              0      1987             0    98074  47.6168   \n",
       "\n",
       "      long  sqft_living15  sqft_lot15   price  \n",
       "0 -122.257           1340        5650  221900  \n",
       "1 -122.319           1690        7639  538000  \n",
       "2 -122.233           2720        8062  180000  \n",
       "3 -122.393           1360        5000  604000  \n",
       "4 -122.045           1800        7503  510000  "
      ]
     },
     "execution_count": 882,
     "metadata": {},
     "output_type": "execute_result"
    }
   ],
   "source": [
    "data.head()"
   ]
  },
  {
   "cell_type": "markdown",
   "id": "3ef936a1-199b-4446-b714-c96b525c335e",
   "metadata": {
    "tags": []
   },
   "source": [
    "#### Comprobando NaNs"
   ]
  },
  {
   "cell_type": "code",
   "execution_count": 883,
   "id": "56160614-f638-4fd0-8665-b829276eacfd",
   "metadata": {},
   "outputs": [
    {
     "data": {
      "text/plain": [
       "bedrooms         0\n",
       "bathrooms        0\n",
       "sqft_living      0\n",
       "sqft_lot         0\n",
       "floors           0\n",
       "waterfront       0\n",
       "view             0\n",
       "condition        0\n",
       "grade            0\n",
       "sqft_above       0\n",
       "sqft_basement    0\n",
       "yr_built         0\n",
       "yr_renovated     0\n",
       "zipcode          0\n",
       "lat              0\n",
       "long             0\n",
       "sqft_living15    0\n",
       "sqft_lot15       0\n",
       "price            0\n",
       "dtype: int64"
      ]
     },
     "execution_count": 883,
     "metadata": {},
     "output_type": "execute_result"
    }
   ],
   "source": [
    "data.isna().sum()"
   ]
  },
  {
   "cell_type": "markdown",
   "id": "c1c0db03-d14b-4d9f-a483-c78a1e14ff0c",
   "metadata": {},
   "source": [
    "#### Comprobando Outliers"
   ]
  },
  {
   "cell_type": "code",
   "execution_count": 884,
   "id": "147db18f-03b6-4cf5-a46a-9f629cf4cb0f",
   "metadata": {},
   "outputs": [
    {
     "data": {
      "text/plain": [
       "<AxesSubplot:>"
      ]
     },
     "execution_count": 884,
     "metadata": {},
     "output_type": "execute_result"
    },
    {
     "data": {
      "image/png": "[encoded data removed]",
      "text/plain": [
       "<Figure size 432x288 with 1 Axes>"
      ]
     },
     "metadata": {
      "needs_background": "light"
     },
     "output_type": "display_data"
    }
   ],
   "source": [
    "data.boxplot(numericals)"
   ]
  },
  {
   "cell_type": "code",
   "execution_count": 885,
   "id": "33580e6d-83b7-45af-8e9b-286b774bfcfb",
   "metadata": {},
   "outputs": [],
   "source": [
    "for x in ['sqft_lot15']:\n",
    "    q75,q25 = np.percentile(data.loc[:,x],[75,25])\n",
    "    intr_qr = q75-q25\n",
    " \n",
    "    max = q75+(1.5*intr_qr)\n",
    "    min = q25-(1.5*intr_qr)\n",
    " \n",
    "    data.loc[data[x] < min,x] = np.nan\n",
    "    data.loc[data[x] > max,x] = np.nan"
   ]
  },
  {
   "cell_type": "code",
   "execution_count": 886,
   "id": "fb75eb9d-7616-4ce8-a37c-e8110984fcec",
   "metadata": {},
   "outputs": [],
   "source": [
    "for x in ['sqft_lot']:\n",
    "    q75,q25 = np.percentile(data.loc[:,x],[75,25])\n",
    "    intr_qr = q75-q25\n",
    " \n",
    "    max = q75+(1.5*intr_qr)\n",
    "    min = q25-(1.5*intr_qr)\n",
    " \n",
    "    data.loc[data[x] < min,x] = np.nan\n",
    "    data.loc[data[x] > max,x] = np.nan"
   ]
  },
  {
   "cell_type": "code",
   "execution_count": 887,
   "id": "299ac740-d1bb-4f76-84f7-f9cdc2cce41e",
   "metadata": {},
   "outputs": [],
   "source": [
    "data = data.dropna(axis=0)"
   ]
  },
  {
   "cell_type": "code",
   "execution_count": 888,
   "id": "6f7e5b20-56c0-4e29-9bad-d73b9d9c05d8",
   "metadata": {},
   "outputs": [
    {
     "data": {
      "text/plain": [
       "<AxesSubplot:>"
      ]
     },
     "execution_count": 888,
     "metadata": {},
     "output_type": "execute_result"
    },
    {
     "data": {
      "image/png": "[encoded data removed]",
      "text/plain": [
       "<Figure size 432x288 with 1 Axes>"
      ]
     },
     "metadata": {
      "needs_background": "light"
     },
     "output_type": "display_data"
    }
   ],
   "source": [
    "data.boxplot(numericals)"
   ]
  },
  {
   "cell_type": "code",
   "execution_count": 889,
   "id": "a51ccba4-ccd4-40e9-9402-0a2664507bcb",
   "metadata": {},
   "outputs": [
    {
     "data": {
      "text/plain": [
       "bedrooms         0\n",
       "bathrooms        0\n",
       "sqft_living      0\n",
       "sqft_lot         0\n",
       "floors           0\n",
       "waterfront       0\n",
       "view             0\n",
       "condition        0\n",
       "grade            0\n",
       "sqft_above       0\n",
       "sqft_basement    0\n",
       "yr_built         0\n",
       "yr_renovated     0\n",
       "zipcode          0\n",
       "lat              0\n",
       "long             0\n",
       "sqft_living15    0\n",
       "sqft_lot15       0\n",
       "price            0\n",
       "dtype: int64"
      ]
     },
     "execution_count": 889,
     "metadata": {},
     "output_type": "execute_result"
    }
   ],
   "source": [
    "data.isna().sum()"
   ]
  },
  {
   "cell_type": "markdown",
   "id": "9e6c30de-6dd5-4477-a6e2-c8dde08c1289",
   "metadata": {
    "tags": []
   },
   "source": [
    "### Standardize"
   ]
  },
  {
   "cell_type": "code",
   "execution_count": 890,
   "id": "d4523271-751d-4339-adf7-30b3005e00f0",
   "metadata": {},
   "outputs": [],
   "source": [
    "from sklearn.preprocessing import StandardScaler"
   ]
  },
  {
   "cell_type": "code",
   "execution_count": 891,
   "id": "26b08170-b288-486e-8fc8-bfe8c974ca4b",
   "metadata": {
    "tags": []
   },
   "outputs": [
    {
     "name": "stderr",
     "output_type": "stream",
     "text": [
      "C:\\Users\\CG921YH\\AppData\\Local\\Temp\\ipykernel_21712\\2437731341.py:2: SettingWithCopyWarning: \n",
      "A value is trying to be set on a copy of a slice from a DataFrame.\n",
      "Try using .loc[row_indexer,col_indexer] = value instead\n",
      "\n",
      "See the caveats in the documentation: https://pandas.pydata.org/pandas-docs/stable/user_guide/indexing.html#returning-a-view-versus-a-copy\n",
      "  data[c]=StandardScaler().fit_transform(data[c].values.reshape(-1, 1))\n",
      "C:\\Users\\CG921YH\\AppData\\Local\\Temp\\ipykernel_21712\\2437731341.py:2: SettingWithCopyWarning: \n",
      "A value is trying to be set on a copy of a slice from a DataFrame.\n",
      "Try using .loc[row_indexer,col_indexer] = value instead\n",
      "\n",
      "See the caveats in the documentation: https://pandas.pydata.org/pandas-docs/stable/user_guide/indexing.html#returning-a-view-versus-a-copy\n",
      "  data[c]=StandardScaler().fit_transform(data[c].values.reshape(-1, 1))\n",
      "C:\\Users\\CG921YH\\AppData\\Local\\Temp\\ipykernel_21712\\2437731341.py:2: SettingWithCopyWarning: \n",
      "A value is trying to be set on a copy of a slice from a DataFrame.\n",
      "Try using .loc[row_indexer,col_indexer] = value instead\n",
      "\n",
      "See the caveats in the documentation: https://pandas.pydata.org/pandas-docs/stable/user_guide/indexing.html#returning-a-view-versus-a-copy\n",
      "  data[c]=StandardScaler().fit_transform(data[c].values.reshape(-1, 1))\n",
      "C:\\Users\\CG921YH\\AppData\\Local\\Temp\\ipykernel_21712\\2437731341.py:2: SettingWithCopyWarning: \n",
      "A value is trying to be set on a copy of a slice from a DataFrame.\n",
      "Try using .loc[row_indexer,col_indexer] = value instead\n",
      "\n",
      "See the caveats in the documentation: https://pandas.pydata.org/pandas-docs/stable/user_guide/indexing.html#returning-a-view-versus-a-copy\n",
      "  data[c]=StandardScaler().fit_transform(data[c].values.reshape(-1, 1))\n",
      "C:\\Users\\CG921YH\\AppData\\Local\\Temp\\ipykernel_21712\\2437731341.py:2: SettingWithCopyWarning: \n",
      "A value is trying to be set on a copy of a slice from a DataFrame.\n",
      "Try using .loc[row_indexer,col_indexer] = value instead\n",
      "\n",
      "See the caveats in the documentation: https://pandas.pydata.org/pandas-docs/stable/user_guide/indexing.html#returning-a-view-versus-a-copy\n",
      "  data[c]=StandardScaler().fit_transform(data[c].values.reshape(-1, 1))\n",
      "C:\\Users\\CG921YH\\AppData\\Local\\Temp\\ipykernel_21712\\2437731341.py:2: SettingWithCopyWarning: \n",
      "A value is trying to be set on a copy of a slice from a DataFrame.\n",
      "Try using .loc[row_indexer,col_indexer] = value instead\n",
      "\n",
      "See the caveats in the documentation: https://pandas.pydata.org/pandas-docs/stable/user_guide/indexing.html#returning-a-view-versus-a-copy\n",
      "  data[c]=StandardScaler().fit_transform(data[c].values.reshape(-1, 1))\n",
      "C:\\Users\\CG921YH\\AppData\\Local\\Temp\\ipykernel_21712\\2437731341.py:2: SettingWithCopyWarning: \n",
      "A value is trying to be set on a copy of a slice from a DataFrame.\n",
      "Try using .loc[row_indexer,col_indexer] = value instead\n",
      "\n",
      "See the caveats in the documentation: https://pandas.pydata.org/pandas-docs/stable/user_guide/indexing.html#returning-a-view-versus-a-copy\n",
      "  data[c]=StandardScaler().fit_transform(data[c].values.reshape(-1, 1))\n",
      "C:\\Users\\CG921YH\\AppData\\Local\\Temp\\ipykernel_21712\\2437731341.py:2: SettingWithCopyWarning: \n",
      "A value is trying to be set on a copy of a slice from a DataFrame.\n",
      "Try using .loc[row_indexer,col_indexer] = value instead\n",
      "\n",
      "See the caveats in the documentation: https://pandas.pydata.org/pandas-docs/stable/user_guide/indexing.html#returning-a-view-versus-a-copy\n",
      "  data[c]=StandardScaler().fit_transform(data[c].values.reshape(-1, 1))\n",
      "C:\\Users\\CG921YH\\AppData\\Local\\Temp\\ipykernel_21712\\2437731341.py:2: SettingWithCopyWarning: \n",
      "A value is trying to be set on a copy of a slice from a DataFrame.\n",
      "Try using .loc[row_indexer,col_indexer] = value instead\n",
      "\n",
      "See the caveats in the documentation: https://pandas.pydata.org/pandas-docs/stable/user_guide/indexing.html#returning-a-view-versus-a-copy\n",
      "  data[c]=StandardScaler().fit_transform(data[c].values.reshape(-1, 1))\n",
      "C:\\Users\\CG921YH\\AppData\\Local\\Temp\\ipykernel_21712\\2437731341.py:2: SettingWithCopyWarning: \n",
      "A value is trying to be set on a copy of a slice from a DataFrame.\n",
      "Try using .loc[row_indexer,col_indexer] = value instead\n",
      "\n",
      "See the caveats in the documentation: https://pandas.pydata.org/pandas-docs/stable/user_guide/indexing.html#returning-a-view-versus-a-copy\n",
      "  data[c]=StandardScaler().fit_transform(data[c].values.reshape(-1, 1))\n",
      "C:\\Users\\CG921YH\\AppData\\Local\\Temp\\ipykernel_21712\\2437731341.py:2: SettingWithCopyWarning: \n",
      "A value is trying to be set on a copy of a slice from a DataFrame.\n",
      "Try using .loc[row_indexer,col_indexer] = value instead\n",
      "\n",
      "See the caveats in the documentation: https://pandas.pydata.org/pandas-docs/stable/user_guide/indexing.html#returning-a-view-versus-a-copy\n",
      "  data[c]=StandardScaler().fit_transform(data[c].values.reshape(-1, 1))\n"
     ]
    }
   ],
   "source": [
    "for c in numericals:   # we'll normalize all column except the last one (the target column)\n",
    "    data[c]=StandardScaler().fit_transform(data[c].values.reshape(-1, 1))"
   ]
  },
  {
   "cell_type": "markdown",
   "id": "97446097-6e28-41d4-82c8-5259cbe86182",
   "metadata": {
    "tags": []
   },
   "source": [
    "### Encoding Categorical Data"
   ]
  },
  {
   "cell_type": "code",
   "execution_count": 892,
   "id": "b5680eca-17b0-4b52-835b-f5236f5fca11",
   "metadata": {},
   "outputs": [
    {
     "name": "stderr",
     "output_type": "stream",
     "text": [
      "C:\\Users\\CG921YH\\Anaconda3\\lib\\site-packages\\pandas\\core\\algorithms.py:798: FutureWarning: In a future version, the Index constructor will not infer numeric dtypes when passed object-dtype sequences (matching Series behavior)\n",
      "  uniques = Index(uniques)\n"
     ]
    },
    {
     "data": {
      "text/html": [
       "<div>\n",
       "<style scoped>\n",
       "    .dataframe tbody tr th:only-of-type {\n",
       "        vertical-align: middle;\n",
       "    }\n",
       "\n",
       "    .dataframe tbody tr th {\n",
       "        vertical-align: top;\n",
       "    }\n",
       "\n",
       "    .dataframe thead th {\n",
       "        text-align: right;\n",
       "    }\n",
       "</style>\n",
       "<table border=\"1\" class=\"dataframe\">\n",
       "  <thead>\n",
       "    <tr style=\"text-align: right;\">\n",
       "      <th></th>\n",
       "      <th>bedrooms_1</th>\n",
       "      <th>bedrooms_2</th>\n",
       "      <th>bedrooms_3</th>\n",
       "      <th>bedrooms_4</th>\n",
       "      <th>bedrooms_5</th>\n",
       "      <th>bedrooms_6</th>\n",
       "      <th>bedrooms_7</th>\n",
       "      <th>bedrooms_8</th>\n",
       "      <th>bedrooms_9</th>\n",
       "      <th>bedrooms_10</th>\n",
       "      <th>...</th>\n",
       "      <th>grade_9</th>\n",
       "      <th>grade_10</th>\n",
       "      <th>grade_11</th>\n",
       "      <th>grade_12</th>\n",
       "      <th>grade_13</th>\n",
       "      <th>condition_1</th>\n",
       "      <th>condition_2</th>\n",
       "      <th>condition_3</th>\n",
       "      <th>condition_4</th>\n",
       "      <th>condition_5</th>\n",
       "    </tr>\n",
       "  </thead>\n",
       "  <tbody>\n",
       "    <tr>\n",
       "      <th>0</th>\n",
       "      <td>0</td>\n",
       "      <td>0</td>\n",
       "      <td>1</td>\n",
       "      <td>0</td>\n",
       "      <td>0</td>\n",
       "      <td>0</td>\n",
       "      <td>0</td>\n",
       "      <td>0</td>\n",
       "      <td>0</td>\n",
       "      <td>0</td>\n",
       "      <td>...</td>\n",
       "      <td>0</td>\n",
       "      <td>0</td>\n",
       "      <td>0</td>\n",
       "      <td>0</td>\n",
       "      <td>0</td>\n",
       "      <td>0</td>\n",
       "      <td>0</td>\n",
       "      <td>1</td>\n",
       "      <td>0</td>\n",
       "      <td>0</td>\n",
       "    </tr>\n",
       "    <tr>\n",
       "      <th>1</th>\n",
       "      <td>0</td>\n",
       "      <td>0</td>\n",
       "      <td>1</td>\n",
       "      <td>0</td>\n",
       "      <td>0</td>\n",
       "      <td>0</td>\n",
       "      <td>0</td>\n",
       "      <td>0</td>\n",
       "      <td>0</td>\n",
       "      <td>0</td>\n",
       "      <td>...</td>\n",
       "      <td>0</td>\n",
       "      <td>0</td>\n",
       "      <td>0</td>\n",
       "      <td>0</td>\n",
       "      <td>0</td>\n",
       "      <td>0</td>\n",
       "      <td>0</td>\n",
       "      <td>1</td>\n",
       "      <td>0</td>\n",
       "      <td>0</td>\n",
       "    </tr>\n",
       "    <tr>\n",
       "      <th>2</th>\n",
       "      <td>0</td>\n",
       "      <td>1</td>\n",
       "      <td>0</td>\n",
       "      <td>0</td>\n",
       "      <td>0</td>\n",
       "      <td>0</td>\n",
       "      <td>0</td>\n",
       "      <td>0</td>\n",
       "      <td>0</td>\n",
       "      <td>0</td>\n",
       "      <td>...</td>\n",
       "      <td>0</td>\n",
       "      <td>0</td>\n",
       "      <td>0</td>\n",
       "      <td>0</td>\n",
       "      <td>0</td>\n",
       "      <td>0</td>\n",
       "      <td>0</td>\n",
       "      <td>1</td>\n",
       "      <td>0</td>\n",
       "      <td>0</td>\n",
       "    </tr>\n",
       "    <tr>\n",
       "      <th>3</th>\n",
       "      <td>0</td>\n",
       "      <td>0</td>\n",
       "      <td>0</td>\n",
       "      <td>1</td>\n",
       "      <td>0</td>\n",
       "      <td>0</td>\n",
       "      <td>0</td>\n",
       "      <td>0</td>\n",
       "      <td>0</td>\n",
       "      <td>0</td>\n",
       "      <td>...</td>\n",
       "      <td>0</td>\n",
       "      <td>0</td>\n",
       "      <td>0</td>\n",
       "      <td>0</td>\n",
       "      <td>0</td>\n",
       "      <td>0</td>\n",
       "      <td>0</td>\n",
       "      <td>0</td>\n",
       "      <td>0</td>\n",
       "      <td>1</td>\n",
       "    </tr>\n",
       "    <tr>\n",
       "      <th>4</th>\n",
       "      <td>0</td>\n",
       "      <td>0</td>\n",
       "      <td>1</td>\n",
       "      <td>0</td>\n",
       "      <td>0</td>\n",
       "      <td>0</td>\n",
       "      <td>0</td>\n",
       "      <td>0</td>\n",
       "      <td>0</td>\n",
       "      <td>0</td>\n",
       "      <td>...</td>\n",
       "      <td>0</td>\n",
       "      <td>0</td>\n",
       "      <td>0</td>\n",
       "      <td>0</td>\n",
       "      <td>0</td>\n",
       "      <td>0</td>\n",
       "      <td>0</td>\n",
       "      <td>1</td>\n",
       "      <td>0</td>\n",
       "      <td>0</td>\n",
       "    </tr>\n",
       "  </tbody>\n",
       "</table>\n",
       "<p>5 rows × 67 columns</p>\n",
       "</div>"
      ],
      "text/plain": [
       "   bedrooms_1  bedrooms_2  bedrooms_3  bedrooms_4  bedrooms_5  bedrooms_6  \\\n",
       "0           0           0           1           0           0           0   \n",
       "1           0           0           1           0           0           0   \n",
       "2           0           1           0           0           0           0   \n",
       "3           0           0           0           1           0           0   \n",
       "4           0           0           1           0           0           0   \n",
       "\n",
       "   bedrooms_7  bedrooms_8  bedrooms_9  bedrooms_10  ...  grade_9  grade_10  \\\n",
       "0           0           0           0            0  ...        0         0   \n",
       "1           0           0           0            0  ...        0         0   \n",
       "2           0           0           0            0  ...        0         0   \n",
       "3           0           0           0            0  ...        0         0   \n",
       "4           0           0           0            0  ...        0         0   \n",
       "\n",
       "   grade_11  grade_12  grade_13  condition_1  condition_2  condition_3  \\\n",
       "0         0         0         0            0            0            1   \n",
       "1         0         0         0            0            0            1   \n",
       "2         0         0         0            0            0            1   \n",
       "3         0         0         0            0            0            0   \n",
       "4         0         0         0            0            0            1   \n",
       "\n",
       "   condition_4  condition_5  \n",
       "0            0            0  \n",
       "1            0            0  \n",
       "2            0            0  \n",
       "3            0            1  \n",
       "4            0            0  \n",
       "\n",
       "[5 rows x 67 columns]"
      ]
     },
     "execution_count": 892,
     "metadata": {},
     "output_type": "execute_result"
    }
   ],
   "source": [
    "one_hot_data=pd.get_dummies(data[categoricals])   # one hot encoding categorical variables\n",
    "\n",
    "one_hot_data.head()"
   ]
  },
  {
   "cell_type": "markdown",
   "id": "8e281840-5796-49a8-bb10-5c6fe7356aaa",
   "metadata": {
    "id": "Zc6XA2oYslvn"
   },
   "source": [
    "## Concat numerical and categorical "
   ]
  },
  {
   "cell_type": "code",
   "execution_count": 893,
   "id": "b94af09d-7ad6-4975-92af-b8c9706fd00a",
   "metadata": {
    "id": "PZX-Ooc8slvn",
    "outputId": "76f54c3f-f9a8-43c9-959b-075ab22b7e29",
    "tags": []
   },
   "outputs": [
    {
     "data": {
      "text/html": [
       "<div>\n",
       "<style scoped>\n",
       "    .dataframe tbody tr th:only-of-type {\n",
       "        vertical-align: middle;\n",
       "    }\n",
       "\n",
       "    .dataframe tbody tr th {\n",
       "        vertical-align: top;\n",
       "    }\n",
       "\n",
       "    .dataframe thead th {\n",
       "        text-align: right;\n",
       "    }\n",
       "</style>\n",
       "<table border=\"1\" class=\"dataframe\">\n",
       "  <thead>\n",
       "    <tr style=\"text-align: right;\">\n",
       "      <th></th>\n",
       "      <th>sqft_living</th>\n",
       "      <th>sqft_lot</th>\n",
       "      <th>sqft_above</th>\n",
       "      <th>sqft_basement</th>\n",
       "      <th>yr_built</th>\n",
       "      <th>yr_renovated</th>\n",
       "      <th>zipcode</th>\n",
       "      <th>lat</th>\n",
       "      <th>long</th>\n",
       "      <th>sqft_living15</th>\n",
       "      <th>...</th>\n",
       "      <th>grade_9</th>\n",
       "      <th>grade_10</th>\n",
       "      <th>grade_11</th>\n",
       "      <th>grade_12</th>\n",
       "      <th>grade_13</th>\n",
       "      <th>condition_1</th>\n",
       "      <th>condition_2</th>\n",
       "      <th>condition_3</th>\n",
       "      <th>condition_4</th>\n",
       "      <th>condition_5</th>\n",
       "    </tr>\n",
       "  </thead>\n",
       "  <tbody>\n",
       "    <tr>\n",
       "      <th>0</th>\n",
       "      <td>-0.979265</td>\n",
       "      <td>-0.463501</td>\n",
       "      <td>-0.706175</td>\n",
       "      <td>-0.671913</td>\n",
       "      <td>-0.504331</td>\n",
       "      <td>-0.202418</td>\n",
       "      <td>1.791720</td>\n",
       "      <td>-0.382521</td>\n",
       "      <td>-0.215666</td>\n",
       "      <td>-0.901958</td>\n",
       "      <td>...</td>\n",
       "      <td>0</td>\n",
       "      <td>0</td>\n",
       "      <td>0</td>\n",
       "      <td>0</td>\n",
       "      <td>0</td>\n",
       "      <td>0</td>\n",
       "      <td>0</td>\n",
       "      <td>1</td>\n",
       "      <td>0</td>\n",
       "      <td>0</td>\n",
       "    </tr>\n",
       "    <tr>\n",
       "      <th>1</th>\n",
       "      <td>0.709415</td>\n",
       "      <td>-0.009720</td>\n",
       "      <td>0.631056</td>\n",
       "      <td>0.276935</td>\n",
       "      <td>-0.636668</td>\n",
       "      <td>4.926061</td>\n",
       "      <td>0.810196</td>\n",
       "      <td>1.162719</td>\n",
       "      <td>-0.685468</td>\n",
       "      <td>-0.348801</td>\n",
       "      <td>...</td>\n",
       "      <td>0</td>\n",
       "      <td>0</td>\n",
       "      <td>0</td>\n",
       "      <td>0</td>\n",
       "      <td>0</td>\n",
       "      <td>0</td>\n",
       "      <td>0</td>\n",
       "      <td>1</td>\n",
       "      <td>0</td>\n",
       "      <td>0</td>\n",
       "    </tr>\n",
       "    <tr>\n",
       "      <th>2</th>\n",
       "      <td>-1.477365</td>\n",
       "      <td>0.776416</td>\n",
       "      <td>-1.259978</td>\n",
       "      <td>-0.671913</td>\n",
       "      <td>-1.232188</td>\n",
       "      <td>-0.202418</td>\n",
       "      <td>-0.986180</td>\n",
       "      <td>1.287193</td>\n",
       "      <td>-0.033807</td>\n",
       "      <td>1.279061</td>\n",
       "      <td>...</td>\n",
       "      <td>0</td>\n",
       "      <td>0</td>\n",
       "      <td>0</td>\n",
       "      <td>0</td>\n",
       "      <td>0</td>\n",
       "      <td>0</td>\n",
       "      <td>0</td>\n",
       "      <td>1</td>\n",
       "      <td>0</td>\n",
       "      <td>0</td>\n",
       "    </tr>\n",
       "    <tr>\n",
       "      <th>3</th>\n",
       "      <td>-0.031661</td>\n",
       "      <td>-0.648776</td>\n",
       "      <td>-0.881771</td>\n",
       "      <td>1.486718</td>\n",
       "      <td>-0.173486</td>\n",
       "      <td>-0.202418</td>\n",
       "      <td>1.013908</td>\n",
       "      <td>-0.311814</td>\n",
       "      <td>-1.246200</td>\n",
       "      <td>-0.870349</td>\n",
       "      <td>...</td>\n",
       "      <td>0</td>\n",
       "      <td>0</td>\n",
       "      <td>0</td>\n",
       "      <td>0</td>\n",
       "      <td>0</td>\n",
       "      <td>0</td>\n",
       "      <td>0</td>\n",
       "      <td>0</td>\n",
       "      <td>0</td>\n",
       "      <td>1</td>\n",
       "    </tr>\n",
       "    <tr>\n",
       "      <th>4</th>\n",
       "      <td>-0.371827</td>\n",
       "      <td>0.229142</td>\n",
       "      <td>-0.030806</td>\n",
       "      <td>-0.671913</td>\n",
       "      <td>0.554371</td>\n",
       "      <td>-0.202418</td>\n",
       "      <td>-0.134290</td>\n",
       "      <td>0.395255</td>\n",
       "      <td>1.390756</td>\n",
       "      <td>-0.174952</td>\n",
       "      <td>...</td>\n",
       "      <td>0</td>\n",
       "      <td>0</td>\n",
       "      <td>0</td>\n",
       "      <td>0</td>\n",
       "      <td>0</td>\n",
       "      <td>0</td>\n",
       "      <td>0</td>\n",
       "      <td>1</td>\n",
       "      <td>0</td>\n",
       "      <td>0</td>\n",
       "    </tr>\n",
       "  </tbody>\n",
       "</table>\n",
       "<p>5 rows × 79 columns</p>\n",
       "</div>"
      ],
      "text/plain": [
       "   sqft_living  sqft_lot  sqft_above  sqft_basement  yr_built  yr_renovated  \\\n",
       "0    -0.979265 -0.463501   -0.706175      -0.671913 -0.504331     -0.202418   \n",
       "1     0.709415 -0.009720    0.631056       0.276935 -0.636668      4.926061   \n",
       "2    -1.477365  0.776416   -1.259978      -0.671913 -1.232188     -0.202418   \n",
       "3    -0.031661 -0.648776   -0.881771       1.486718 -0.173486     -0.202418   \n",
       "4    -0.371827  0.229142   -0.030806      -0.671913  0.554371     -0.202418   \n",
       "\n",
       "    zipcode       lat      long  sqft_living15  ...  grade_9  grade_10  \\\n",
       "0  1.791720 -0.382521 -0.215666      -0.901958  ...        0         0   \n",
       "1  0.810196  1.162719 -0.685468      -0.348801  ...        0         0   \n",
       "2 -0.986180  1.287193 -0.033807       1.279061  ...        0         0   \n",
       "3  1.013908 -0.311814 -1.246200      -0.870349  ...        0         0   \n",
       "4 -0.134290  0.395255  1.390756      -0.174952  ...        0         0   \n",
       "\n",
       "   grade_11  grade_12  grade_13  condition_1  condition_2  condition_3  \\\n",
       "0         0         0         0            0            0            1   \n",
       "1         0         0         0            0            0            1   \n",
       "2         0         0         0            0            0            1   \n",
       "3         0         0         0            0            0            0   \n",
       "4         0         0         0            0            0            1   \n",
       "\n",
       "   condition_4  condition_5  \n",
       "0            0            0  \n",
       "1            0            0  \n",
       "2            0            0  \n",
       "3            0            1  \n",
       "4            0            0  \n",
       "\n",
       "[5 rows x 79 columns]"
      ]
     },
     "execution_count": 893,
     "metadata": {},
     "output_type": "execute_result"
    }
   ],
   "source": [
    "data=pd.concat([data, one_hot_data], axis=1)   # concat dataframes\n",
    "data.drop(columns=categoricals, inplace=True)\n",
    "data.head()"
   ]
  },
  {
   "cell_type": "markdown",
   "id": "d51a92bc-2edd-431b-a33e-c19914f41b5c",
   "metadata": {
    "tags": []
   },
   "source": [
    "## Modelo"
   ]
  },
  {
   "cell_type": "markdown",
   "id": "dde99be5-8ae7-4a42-a492-92ac99ccc038",
   "metadata": {},
   "source": [
    "#### Split into train and test"
   ]
  },
  {
   "cell_type": "code",
   "execution_count": 894,
   "id": "c6f34077-b039-474e-b6bf-6ac90723f34e",
   "metadata": {},
   "outputs": [
    {
     "name": "stdout",
     "output_type": "stream",
     "text": [
      "(18901, 78)\n",
      "(18901,)\n"
     ]
    }
   ],
   "source": [
    "# first, split X-y (learning-target data)\n",
    "X= data.drop(columns=['price'])\n",
    "y= data['price']\n",
    "\n",
    "# checking shape\n",
    "print(X.shape)\n",
    "print(y.shape)"
   ]
  },
  {
   "cell_type": "code",
   "execution_count": 895,
   "id": "5d0828bc-e61b-4e23-bfd6-1a422f2bbac2",
   "metadata": {},
   "outputs": [],
   "source": [
    "# train_test_split\n",
    "from sklearn.model_selection import train_test_split as tts\n",
    "X_train, X_test, y_train, y_test = tts(X, y, test_size=0.2, random_state=42)"
   ]
  },
  {
   "cell_type": "markdown",
   "id": "3be085e9-dc39-408b-94ee-f5c11f32c2fd",
   "metadata": {},
   "source": [
    "#### Modeling"
   ]
  },
  {
   "cell_type": "markdown",
   "id": "ca389f54-7c25-4028-a2ba-f94a1535ff0b",
   "metadata": {
    "id": "rowfgcJMslvo",
    "tags": []
   },
   "source": [
    "### Linear Regression"
   ]
  },
  {
   "cell_type": "code",
   "execution_count": 896,
   "id": "1e744b4b-8291-43cd-9cd5-0f042a08d2ed",
   "metadata": {
    "id": "If5Jnjwfslvo",
    "tags": []
   },
   "outputs": [],
   "source": [
    "from sklearn.linear_model import LinearRegression as LinReg\n",
    "linreg=LinReg()    # model\n",
    "linreg.fit(X_train, y_train)   # model train\n",
    "y_pred_linreg=linreg.predict(X_test)   # model prediction"
   ]
  },
  {
   "cell_type": "markdown",
   "id": "7f13201f-e18f-4905-ba56-9ff0e7bd3e42",
   "metadata": {
    "id": "EQMaBQCcslvp"
   },
   "source": [
    "### Regulation"
   ]
  },
  {
   "cell_type": "code",
   "execution_count": 897,
   "id": "60de9be4-a346-4da2-80a8-df19f3179227",
   "metadata": {},
   "outputs": [],
   "source": [
    "from sklearn.linear_model import Lasso     \n",
    "from sklearn.linear_model import Ridge       \n",
    "from sklearn.linear_model import ElasticNet"
   ]
  },
  {
   "cell_type": "code",
   "execution_count": 898,
   "id": "21778e3d-6009-436e-a606-fff5e2db2dc9",
   "metadata": {},
   "outputs": [
    {
     "name": "stderr",
     "output_type": "stream",
     "text": [
      "C:\\Users\\CG921YH\\Anaconda3\\lib\\site-packages\\sklearn\\linear_model\\_coordinate_descent.py:648: ConvergenceWarning: Objective did not converge. You might want to increase the number of iterations, check the scale of the features or consider increasing regularisation. Duality gap: 4.683e+13, tolerance: 1.549e+11\n",
      "  model = cd_fast.enet_coordinate_descent(\n"
     ]
    }
   ],
   "source": [
    "# Lasso L1\n",
    "\n",
    "lasso=Lasso()\n",
    "lasso.fit(X_train, y_train)\n",
    "\n",
    "y_pred_lasso = lasso.predict(X_test)"
   ]
  },
  {
   "cell_type": "code",
   "execution_count": 899,
   "id": "341d1c2a-b1a2-4c3e-ad03-759024853734",
   "metadata": {},
   "outputs": [],
   "source": [
    "# Ridge L2\n",
    "\n",
    "ridge=Ridge()\n",
    "ridge.fit(X_train, y_train)\n",
    "\n",
    "y_pred_ridge = ridge.predict(X_test)"
   ]
  },
  {
   "cell_type": "code",
   "execution_count": 900,
   "id": "54819e9c-dd1b-48d1-9443-d04a726b544c",
   "metadata": {},
   "outputs": [],
   "source": [
    "# ElasticNet L1+L2\n",
    "\n",
    "elastic=ElasticNet()\n",
    "elastic.fit(X_train, y_train)\n",
    "\n",
    "y_pred_elastic = elastic.predict(X_test)"
   ]
  },
  {
   "cell_type": "markdown",
   "id": "51c6a432-f6a5-4f44-a09b-7d68e171287f",
   "metadata": {
    "id": "tHbge_Grslvp",
    "tags": []
   },
   "source": [
    "### Random Forest Regressor"
   ]
  },
  {
   "cell_type": "code",
   "execution_count": 901,
   "id": "ab42e73d-7c52-4bca-ae74-b540cc9d462e",
   "metadata": {
    "id": "aar7XyS6slvq",
    "tags": []
   },
   "outputs": [],
   "source": [
    "from sklearn.ensemble import RandomForestRegressor as RFR\n",
    "\n",
    "rfr=RFR()\n",
    "rfr.fit(X_train, y_train)\n",
    "\n",
    "y_pred_rfr = rfr.predict(X_test)"
   ]
  },
  {
   "cell_type": "markdown",
   "id": "9db01560-799e-40a6-bc08-c0baf3ddb6f6",
   "metadata": {
    "id": "8tKm26n9slvq",
    "tags": []
   },
   "source": [
    "### XGBoost"
   ]
  },
  {
   "cell_type": "code",
   "execution_count": 902,
   "id": "d2181741-ea7a-4434-bfb2-584b34853190",
   "metadata": {
    "id": "zutOTjO_slvq",
    "tags": []
   },
   "outputs": [
    {
     "name": "stderr",
     "output_type": "stream",
     "text": [
      "C:\\Users\\CG921YH\\Anaconda3\\lib\\site-packages\\xgboost\\data.py:250: FutureWarning: pandas.Int64Index is deprecated and will be removed from pandas in a future version. Use pandas.Index with the appropriate dtype instead.\n",
      "  elif isinstance(data.columns, (pd.Int64Index, pd.RangeIndex)):\n"
     ]
    }
   ],
   "source": [
    "# conda install -c conda-forge xgboost\n",
    "\n",
    "from xgboost import XGBRegressor as XGBR\n",
    "\n",
    "xgbr=XGBR()\n",
    "xgbr.fit(X_train, y_train)\n",
    "\n",
    "y_pred_xgbr = xgbr.predict(X_test)"
   ]
  },
  {
   "cell_type": "markdown",
   "id": "a7b16703-60c0-4334-b50e-c26c763cd9f0",
   "metadata": {
    "id": "p5wDjKPvslvr",
    "tags": []
   },
   "source": [
    "### LightGBM"
   ]
  },
  {
   "cell_type": "code",
   "execution_count": 934,
   "id": "c993e376-ca03-4214-8dba-216ca40f5b21",
   "metadata": {},
   "outputs": [
    {
     "data": {
      "text/plain": [
       "{'C': 329.28810235639486, 'penalty': 'l1'}"
      ]
     },
     "execution_count": 934,
     "metadata": {},
     "output_type": "execute_result"
    }
   ],
   "source": [
    "from sklearn.datasets import load_iris\n",
    "from sklearn.linear_model import LogisticRegression\n",
    "from sklearn.model_selection import RandomizedSearchCV\n",
    "from scipy.stats import uniform\n",
    "iris = load_iris()\n",
    "logistic = LogisticRegression(solver='saga', tol=1e-2, max_iter=200,\n",
    "                                  random_state=0)\n",
    "distributions = dict(C=uniform(loc=0, scale=600),\n",
    "                     penalty=['l2', 'l1'])\n",
    "clf = RandomizedSearchCV(logistic, distributions, random_state=0)\n",
    "search = clf.fit(iris.data, iris.target)\n",
    "search.best_params_"
   ]
  },
  {
   "cell_type": "code",
   "execution_count": 940,
   "id": "81c3e4fa-9175-4b67-ac7a-974e768b8034",
   "metadata": {
    "id": "8M8bi7BPslvr",
    "tags": []
   },
   "outputs": [],
   "source": [
    "# conda install -c conda-forge lightgbm\n",
    "from lightgbm import LGBMRegressor as LGBMR\n",
    "\n",
    "lgbmr=LGBMR(num_leaves = 329)\n",
    "lgbmr.fit(X_train, y_train)\n",
    "\n",
    "y_pred_lgbmr = lgbmr.predict(X_test)"
   ]
  },
  {
   "cell_type": "markdown",
   "id": "1662d735-256e-4f96-b1d4-a28e99b93e98",
   "metadata": {
    "id": "HUpuYwDdslvr"
   },
   "source": [
    "## Model Validation"
   ]
  },
  {
   "cell_type": "code",
   "execution_count": 941,
   "id": "a1f9fe5c-80ca-40eb-9bfd-93ce829ddf03",
   "metadata": {
    "id": "hAyfhBJpslvr"
   },
   "outputs": [],
   "source": [
    "models=[linreg, lasso, ridge, elastic, rfr, xgbr, lgbmr]\n",
    "model_names=['linreg', 'lasso', 'ridge', 'elastic', 'rfr', 'xgbr', 'lgbmr']\n",
    "preds=[y_pred_linreg, y_pred_lasso, y_pred_ridge, y_pred_elastic, y_pred_rfr, y_pred_xgbr, y_pred_lgbmr]"
   ]
  },
  {
   "cell_type": "markdown",
   "id": "bd9e01a2-4285-4262-8bad-c5107cfbcfb6",
   "metadata": {
    "id": "7u7hsx4gslvs"
   },
   "source": [
    "### R2"
   ]
  },
  {
   "cell_type": "code",
   "execution_count": 942,
   "id": "3ee79ce5-5ecb-489f-926a-8a0462f0b499",
   "metadata": {
    "id": "7hm7kVVoslvs",
    "outputId": "fc31f046-d628-4bc5-c432-cbfd50001a33"
   },
   "outputs": [
    {
     "name": "stdout",
     "output_type": "stream",
     "text": [
      "Model: linreg, train R2: 0.7506466782501742 -- test R2: 0.692178366832306\n",
      "Model: lasso, train R2: 0.7506453738646807 -- test R2: 0.6923018679931989\n",
      "Model: ridge, train R2: 0.7499149915372665 -- test R2: 0.6933777567177531\n",
      "Model: elastic, train R2: 0.604517116208835 -- test R2: 0.6136729845384424\n",
      "Model: rfr, train R2: 0.9815186613171993 -- test R2: 0.8779193925871769\n",
      "Model: xgbr, train R2: 0.973515097319002 -- test R2: 0.8790962282322488\n",
      "Model: lgbmr, train R2: 0.9850637831497077 -- test R2: 0.8914690611046132\n"
     ]
    }
   ],
   "source": [
    "for i in range(len(models)):\n",
    "\n",
    "    train_score=models[i].score(X_train, y_train) #R2\n",
    "    test_score=models[i].score(X_test, y_test)\n",
    "\n",
    "    print ('Model: {}, train R2: {} -- test R2: {}'.format(model_names[i], train_score, test_score))"
   ]
  },
  {
   "cell_type": "markdown",
   "id": "68d26427-4f05-4183-bcb9-a403d8dd3e68",
   "metadata": {
    "id": "BmTdg2KBslvs"
   },
   "source": [
    "### MSE"
   ]
  },
  {
   "cell_type": "code",
   "execution_count": 906,
   "id": "cf61a0cb-14ff-4483-b4c3-07bbb0a430fd",
   "metadata": {
    "id": "JTlnvbEEslvs",
    "outputId": "53490d15-ce3d-4095-8613-8826809508b6"
   },
   "outputs": [
    {
     "name": "stdout",
     "output_type": "stream",
     "text": [
      "Model: linreg, train MSE: 25539868434.132847 -- test MSE: 26900773654.36809\n",
      "Model: lasso, train MSE: 25540002035.055656 -- test MSE: 26889980791.173122\n",
      "Model: ridge, train MSE: 25614811018.621105 -- test MSE: 26795958032.737713\n",
      "Model: elastic, train MSE: 40507103531.23604 -- test MSE: 33761420510.160625\n",
      "Model: rfr, train MSE: 1892940327.1352596 -- test MSE: 10668719913.558014\n",
      "Model: xgbr, train MSE: 2712700698.016563 -- test MSE: 10565875324.661865\n",
      "Model: lgbmr, train MSE: 5425236416.239995 -- test MSE: 9378561484.404406\n"
     ]
    }
   ],
   "source": [
    "from sklearn.metrics import mean_squared_error as mse\n",
    "\n",
    "for i in range(len(models)):\n",
    "\n",
    "    train_mse=mse(models[i].predict(X_train), y_train) #MSE\n",
    "    test_mse=mse(preds[i], y_test)\n",
    "\n",
    "    print ('Model: {}, train MSE: {} -- test MSE: {}'.format(model_names[i], train_mse, test_mse))"
   ]
  },
  {
   "cell_type": "markdown",
   "id": "62bffcc8-c15c-4ad0-8390-0cc993f7c6ca",
   "metadata": {
    "id": "avmkx5vislvs"
   },
   "source": [
    "### RMSE"
   ]
  },
  {
   "cell_type": "code",
   "execution_count": 907,
   "id": "7996432c-abb3-4e15-9405-251650963064",
   "metadata": {
    "id": "QFXp9d0Tslvs",
    "outputId": "65747ec7-ddb2-49cd-de84-f92a287391cb"
   },
   "outputs": [
    {
     "name": "stdout",
     "output_type": "stream",
     "text": [
      "Model: linreg, train RMSE: 159811.97838126167 -- test RMSE: 164014.5531785765\n",
      "Model: lasso, train RMSE: 159812.39637479835 -- test RMSE: 163981.64772672922\n",
      "Model: ridge, train RMSE: 160046.27774059947 -- test RMSE: 163694.70984957856\n",
      "Model: elastic, train RMSE: 201263.76606641355 -- test RMSE: 183742.81077136222\n",
      "Model: rfr, train RMSE: 43507.93407110087 -- test RMSE: 103289.49565932644\n",
      "Model: xgbr, train RMSE: 52083.59336697654 -- test RMSE: 102790.44374192508\n",
      "Model: lgbmr, train RMSE: 73656.20419380839 -- test RMSE: 96842.97333521109\n"
     ]
    }
   ],
   "source": [
    "for i in range(len(models)):\n",
    "\n",
    "    train_rmse=mse(models[i].predict(X_train), y_train)**0.5 #RMSE\n",
    "    test_rmse=mse(preds[i], y_test)**0.5\n",
    "\n",
    "    print ('Model: {}, train RMSE: {} -- test RMSE: {}'.format(model_names[i], train_rmse, test_rmse))"
   ]
  },
  {
   "cell_type": "markdown",
   "id": "a2a88873-c028-4c57-bc88-9e0ec49b7e3d",
   "metadata": {
    "id": "45WqpCyFslvt"
   },
   "source": [
    "### MAE"
   ]
  },
  {
   "cell_type": "code",
   "execution_count": 908,
   "id": "da5d3d8e-3fc3-4cce-85ff-1be9244e9485",
   "metadata": {
    "id": "rUMkbq13slvt",
    "outputId": "76cb43b8-b302-42bd-bb5b-5a0dca77964d",
    "tags": []
   },
   "outputs": [
    {
     "name": "stdout",
     "output_type": "stream",
     "text": [
      "Model: linreg, train MAE: 106364.65630730159 -- test MAE: 105448.56074133518\n",
      "Model: lasso, train MAE: 106372.50086036588 -- test MAE: 105427.25166335111\n",
      "Model: ridge, train MAE: 106644.66211349501 -- test MAE: 105461.79118580124\n",
      "Model: elastic, train MAE: 125520.53184077251 -- test MAE: 118280.11231198175\n",
      "Model: rfr, train MAE: 24113.001653400308 -- test MAE: 61726.46548114003\n",
      "Model: xgbr, train MAE: 37442.581885023974 -- test MAE: 61006.89428433285\n",
      "Model: lgbmr, train MAE: 50065.33371226514 -- test MAE: 59784.94949048419\n"
     ]
    }
   ],
   "source": [
    "from sklearn.metrics import mean_absolute_error as mae\n",
    "for i in range(len(models)):\n",
    "    train_mae=mae(models[i].predict(X_train), y_train) #MAE\n",
    "    test_mae=mae(preds[i], y_test)\n",
    "\n",
    "    print ('Model: {}, train MAE: {} -- test MAE: {}'.format(model_names[i], train_mae, test_mae))"
   ]
  },
  {
   "cell_type": "markdown",
   "id": "f1379791-03c4-4c9e-a26b-d9008be7a595",
   "metadata": {
    "tags": []
   },
   "source": [
    "#### Binning zipcode"
   ]
  },
  {
   "cell_type": "code",
   "execution_count": 864,
   "id": "f21a2ba6-e1f1-4f03-aea7-eff59fd0117c",
   "metadata": {},
   "outputs": [
    {
     "data": {
      "text/plain": [
       "70"
      ]
     },
     "execution_count": 864,
     "metadata": {},
     "output_type": "execute_result"
    }
   ],
   "source": [
    "len(data['zipcode'].unique())"
   ]
  },
  {
   "cell_type": "code",
   "execution_count": 865,
   "id": "880012fd-0e7d-4630-98e9-b531d58b1d0f",
   "metadata": {},
   "outputs": [],
   "source": [
    "n = 5\n",
    "step = (data['zipcode'].max() - data['zipcode'].min()) / n"
   ]
  },
  {
   "cell_type": "code",
   "execution_count": 866,
   "id": "849c1fe5-a8df-4426-aca4-b81d81da983d",
   "metadata": {},
   "outputs": [
    {
     "data": {
      "text/plain": [
       "False"
      ]
     },
     "execution_count": 866,
     "metadata": {},
     "output_type": "execute_result"
    }
   ],
   "source": [
    "98000 in pd.cut(data['zipcode'], 5).iloc[0]"
   ]
  },
  {
   "cell_type": "code",
   "execution_count": 867,
   "id": "ee3312bb-d3e9-4ed0-87b9-32e26089dd68",
   "metadata": {
    "tags": []
   },
   "outputs": [],
   "source": [
    "intervals = pd.cut(data['zipcode'], 5)\n",
    "def binning(zipcode):\n",
    "    if zipcode in intervals.iloc[0]:\n",
    "        return 'A'\n",
    "    elif zipcode in intervals.iloc[1]:\n",
    "        return 'B'\n",
    "    elif zipcode in intervals.iloc[2]:\n",
    "        return 'C'\n",
    "    elif zipcode in intervals.iloc[3]:\n",
    "        return 'D'\n",
    "    else:\n",
    "        return 'E'  "
   ]
  },
  {
   "cell_type": "code",
   "execution_count": 868,
   "id": "d80a86e2-c42e-491f-9ccc-0bc66638a20c",
   "metadata": {},
   "outputs": [],
   "source": [
    "data['zipcode_bin'] = data['zipcode'].apply(binning)"
   ]
  },
  {
   "cell_type": "code",
   "execution_count": 869,
   "id": "5d5b7650-69bc-4651-b483-b493c1da677e",
   "metadata": {},
   "outputs": [],
   "source": [
    "data = data.drop (columns = ['zipcode'])"
   ]
  },
  {
   "cell_type": "code",
   "execution_count": 870,
   "id": "0605987d-2e76-4244-8ebc-3815f9fea8e7",
   "metadata": {
    "tags": []
   },
   "outputs": [
    {
     "data": {
      "text/html": [
       "<div>\n",
       "<style scoped>\n",
       "    .dataframe tbody tr th:only-of-type {\n",
       "        vertical-align: middle;\n",
       "    }\n",
       "\n",
       "    .dataframe tbody tr th {\n",
       "        vertical-align: top;\n",
       "    }\n",
       "\n",
       "    .dataframe thead th {\n",
       "        text-align: right;\n",
       "    }\n",
       "</style>\n",
       "<table border=\"1\" class=\"dataframe\">\n",
       "  <thead>\n",
       "    <tr style=\"text-align: right;\">\n",
       "      <th></th>\n",
       "      <th>sqft_living</th>\n",
       "      <th>sqft_lot</th>\n",
       "      <th>sqft_above</th>\n",
       "      <th>sqft_basement</th>\n",
       "      <th>yr_built</th>\n",
       "      <th>yr_renovated</th>\n",
       "      <th>lat</th>\n",
       "      <th>long</th>\n",
       "      <th>sqft_living15</th>\n",
       "      <th>sqft_lot15</th>\n",
       "      <th>...</th>\n",
       "      <th>grade_10</th>\n",
       "      <th>grade_11</th>\n",
       "      <th>grade_12</th>\n",
       "      <th>grade_13</th>\n",
       "      <th>condition_1</th>\n",
       "      <th>condition_2</th>\n",
       "      <th>condition_3</th>\n",
       "      <th>condition_4</th>\n",
       "      <th>condition_5</th>\n",
       "      <th>zipcode_bin</th>\n",
       "    </tr>\n",
       "  </thead>\n",
       "  <tbody>\n",
       "    <tr>\n",
       "      <th>0</th>\n",
       "      <td>-0.979265</td>\n",
       "      <td>-0.463501</td>\n",
       "      <td>-0.706175</td>\n",
       "      <td>-0.671913</td>\n",
       "      <td>-0.504331</td>\n",
       "      <td>0.0</td>\n",
       "      <td>-0.382521</td>\n",
       "      <td>-0.215666</td>\n",
       "      <td>-0.901958</td>\n",
       "      <td>-0.472412</td>\n",
       "      <td>...</td>\n",
       "      <td>0</td>\n",
       "      <td>0</td>\n",
       "      <td>0</td>\n",
       "      <td>0</td>\n",
       "      <td>0</td>\n",
       "      <td>0</td>\n",
       "      <td>1</td>\n",
       "      <td>0</td>\n",
       "      <td>0</td>\n",
       "      <td>A</td>\n",
       "    </tr>\n",
       "    <tr>\n",
       "      <th>1</th>\n",
       "      <td>0.709415</td>\n",
       "      <td>-0.009720</td>\n",
       "      <td>0.631056</td>\n",
       "      <td>0.276935</td>\n",
       "      <td>-0.636668</td>\n",
       "      <td>0.0</td>\n",
       "      <td>1.162719</td>\n",
       "      <td>-0.685468</td>\n",
       "      <td>-0.348801</td>\n",
       "      <td>0.162402</td>\n",
       "      <td>...</td>\n",
       "      <td>0</td>\n",
       "      <td>0</td>\n",
       "      <td>0</td>\n",
       "      <td>0</td>\n",
       "      <td>0</td>\n",
       "      <td>0</td>\n",
       "      <td>1</td>\n",
       "      <td>0</td>\n",
       "      <td>0</td>\n",
       "      <td>B</td>\n",
       "    </tr>\n",
       "    <tr>\n",
       "      <th>2</th>\n",
       "      <td>-1.477365</td>\n",
       "      <td>0.776416</td>\n",
       "      <td>-1.259978</td>\n",
       "      <td>-0.671913</td>\n",
       "      <td>-1.232188</td>\n",
       "      <td>0.0</td>\n",
       "      <td>1.287193</td>\n",
       "      <td>-0.033807</td>\n",
       "      <td>1.279061</td>\n",
       "      <td>0.297408</td>\n",
       "      <td>...</td>\n",
       "      <td>0</td>\n",
       "      <td>0</td>\n",
       "      <td>0</td>\n",
       "      <td>0</td>\n",
       "      <td>0</td>\n",
       "      <td>0</td>\n",
       "      <td>1</td>\n",
       "      <td>0</td>\n",
       "      <td>0</td>\n",
       "      <td>C</td>\n",
       "    </tr>\n",
       "  </tbody>\n",
       "</table>\n",
       "<p>3 rows × 79 columns</p>\n",
       "</div>"
      ],
      "text/plain": [
       "   sqft_living  sqft_lot  sqft_above  sqft_basement  yr_built  yr_renovated  \\\n",
       "0    -0.979265 -0.463501   -0.706175      -0.671913 -0.504331           0.0   \n",
       "1     0.709415 -0.009720    0.631056       0.276935 -0.636668           0.0   \n",
       "2    -1.477365  0.776416   -1.259978      -0.671913 -1.232188           0.0   \n",
       "\n",
       "        lat      long  sqft_living15  sqft_lot15  ...  grade_10  grade_11  \\\n",
       "0 -0.382521 -0.215666      -0.901958   -0.472412  ...         0         0   \n",
       "1  1.162719 -0.685468      -0.348801    0.162402  ...         0         0   \n",
       "2  1.287193 -0.033807       1.279061    0.297408  ...         0         0   \n",
       "\n",
       "   grade_12  grade_13  condition_1  condition_2  condition_3  condition_4  \\\n",
       "0         0         0            0            0            1            0   \n",
       "1         0         0            0            0            1            0   \n",
       "2         0         0            0            0            1            0   \n",
       "\n",
       "   condition_5  zipcode_bin  \n",
       "0            0            A  \n",
       "1            0            B  \n",
       "2            0            C  \n",
       "\n",
       "[3 rows x 79 columns]"
      ]
     },
     "execution_count": 870,
     "metadata": {},
     "output_type": "execute_result"
    }
   ],
   "source": [
    "data.head(3)"
   ]
  }
 ],
 "metadata": {
  "kernelspec": {
   "display_name": "Python 3 (ipykernel)",
   "language": "python",
   "name": "python3"
  },
  "language_info": {
   "codemirror_mode": {
    "name": "ipython",
    "version": 3
   },
   "file_extension": ".py",
   "mimetype": "text/x-python",
   "name": "python",
   "nbconvert_exporter": "python",
   "pygments_lexer": "ipython3",
   "version": "3.9.12"
  }
 },
 "nbformat": 4,
 "nbformat_minor": 5
}
