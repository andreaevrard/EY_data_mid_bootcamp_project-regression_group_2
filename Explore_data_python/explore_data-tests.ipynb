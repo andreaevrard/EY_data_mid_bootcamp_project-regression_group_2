{
 "cells": [
  {
   "cell_type": "markdown",
   "id": "99f47ea6-eb28-4879-a5dc-1ca74ea0ebfc",
   "metadata": {},
   "source": [
    "# Project details - regression\n",
    "\n",
    "**Background**: You are working as an analyst for a real estate company. Your company wants to build a machine learning model to predict the selling prices of houses based on a variety of features on which the value of the house is evaluated.\n",
    "\n",
    "**Objective**: The task is to build a model that will predict the price of a house based on features provided in the dataset. The senior management also wants to explore the characteristics of the houses using some business intelligence tool. One of those parameters include understanding which factors are responsible for higher property value - \\$650K and above.\n",
    "The questions have been provided later in the document for which you can use tableau.\n",
    "\n",
    "**Data**: The data set consists of information on some 22,000 properties.  The dataset consisted of historic data of houses sold between May 2014 to May 2015.\n",
    "These are the definitions of data points provided:\n",
    "(Note: For some of the variables that are self explanatory, no definition has been provided)\n",
    "\n",
    "- **Id**: Unique identification number for the property.\n",
    "- **date**: date the house was sold.\n",
    "- **price**: price of the house.\n",
    "- **waterfront**: house which has a view to a waterfront.\n",
    "- **condition**: How good the condition is (overall). **1** indicates worn out property and **5** excellent.\n",
    "- **grade**: Overall grade given to the housing unit, based on King County grading system. 1 poor ,13 excellent.\n",
    "- **Sqft_above**: square footage of house apart from basement.\n",
    "- **Sqft_living15**: Living room area in 2015(implies - some renovations). This might or might not have affected the lotsize area.\n",
    "- **Sqft_lot15**: lotSize area in 2015(implies - some renovations).\n",
    "\n",
    "### Exploring the data\n",
    "\n",
    "We encourage you to thoroughly understand your data and take the necessary steps to prepare your data for modeling before building exploratory or predictive models. Since this is a classification model, you can use linear regression for classification for building a model. You are also encouraged to use other models in your project including KNN, decision trees for regression.\n",
    "To explore the data, you can use the techniques that have been discussed in class. Some of them include using the describe method, checking null values, using _matplotlib_ and _seaborn_ for developing visualizations.\n",
    "The data has a number of categorical and numerical variables. Explore the nature of data for these variables before you start with the data cleaning process and then data pre-processing (scaling numerical variables and encoding categorical variables).\n",
    "You will also use powerbi to visually explore the data further.\n",
    "\n",
    "\n",
    "### Model\n",
    "\n",
    "Use different models to compare the accuracies and find the model that best fits your data. You can use the measures of accuracies that have been discussed in class. Please note that while comparing different models, make sure you use the same measure of accuracy as a benchmark.\n"
   ]
  },
  {
   "cell_type": "markdown",
   "id": "d261d63b-8f62-4fc1-840d-de8a3da23e41",
   "metadata": {},
   "source": [
    "### Import data"
   ]
  },
  {
   "cell_type": "code",
   "execution_count": 45,
   "id": "3d00bde7-f2af-4a8f-8271-391ffe0ef838",
   "metadata": {},
   "outputs": [],
   "source": [
    "import pandas as pd\n",
    "import numpy as np"
   ]
  },
  {
   "cell_type": "code",
   "execution_count": 23,
   "id": "c68861b3-58fb-409c-8489-5423602331e3",
   "metadata": {},
   "outputs": [],
   "source": [
    "data = pd.read_csv('./regression_data.csv', header=None)"
   ]
  },
  {
   "cell_type": "code",
   "execution_count": 24,
   "id": "a5a4d36c-fd25-4b03-b042-67fbadd4a580",
   "metadata": {},
   "outputs": [],
   "source": [
    "data.columns = ['id', 'date', 'bedrooms', 'bathrooms', 'sqft_living', 'sqft_lot', 'floors', 'waterfront', 'view', 'condition', 'grade', 'sqft_above', 'sqft_basement', 'yr_built', 'yr_renovated', 'zipcode', 'lat', 'long', 'sqft_living15', 'sqft_lot15', 'price']"
   ]
  },
  {
   "cell_type": "code",
   "execution_count": 25,
   "id": "60e5794e-4406-4e28-9bf3-66c3afd3adee",
   "metadata": {
    "tags": []
   },
   "outputs": [
    {
     "data": {
      "text/html": [
       "<div>\n",
       "<style scoped>\n",
       "    .dataframe tbody tr th:only-of-type {\n",
       "        vertical-align: middle;\n",
       "    }\n",
       "\n",
       "    .dataframe tbody tr th {\n",
       "        vertical-align: top;\n",
       "    }\n",
       "\n",
       "    .dataframe thead th {\n",
       "        text-align: right;\n",
       "    }\n",
       "</style>\n",
       "<table border=\"1\" class=\"dataframe\">\n",
       "  <thead>\n",
       "    <tr style=\"text-align: right;\">\n",
       "      <th></th>\n",
       "      <th>id</th>\n",
       "      <th>date</th>\n",
       "      <th>bedrooms</th>\n",
       "      <th>bathrooms</th>\n",
       "      <th>sqft_living</th>\n",
       "      <th>sqft_lot</th>\n",
       "      <th>floors</th>\n",
       "      <th>waterfront</th>\n",
       "      <th>view</th>\n",
       "      <th>condition</th>\n",
       "      <th>...</th>\n",
       "      <th>sqft_above</th>\n",
       "      <th>sqft_basement</th>\n",
       "      <th>yr_built</th>\n",
       "      <th>yr_renovated</th>\n",
       "      <th>zipcode</th>\n",
       "      <th>lat</th>\n",
       "      <th>long</th>\n",
       "      <th>sqft_living15</th>\n",
       "      <th>sqft_lot15</th>\n",
       "      <th>price</th>\n",
       "    </tr>\n",
       "  </thead>\n",
       "  <tbody>\n",
       "    <tr>\n",
       "      <th>0</th>\n",
       "      <td>7129300520</td>\n",
       "      <td>10/13/14</td>\n",
       "      <td>3</td>\n",
       "      <td>1.00</td>\n",
       "      <td>1180</td>\n",
       "      <td>5650</td>\n",
       "      <td>1.0</td>\n",
       "      <td>0</td>\n",
       "      <td>0</td>\n",
       "      <td>3</td>\n",
       "      <td>...</td>\n",
       "      <td>1180</td>\n",
       "      <td>0</td>\n",
       "      <td>1955</td>\n",
       "      <td>0</td>\n",
       "      <td>98178</td>\n",
       "      <td>47.5112</td>\n",
       "      <td>-122.257</td>\n",
       "      <td>1340</td>\n",
       "      <td>5650</td>\n",
       "      <td>221900</td>\n",
       "    </tr>\n",
       "    <tr>\n",
       "      <th>1</th>\n",
       "      <td>6414100192</td>\n",
       "      <td>12/9/14</td>\n",
       "      <td>3</td>\n",
       "      <td>2.25</td>\n",
       "      <td>2570</td>\n",
       "      <td>7242</td>\n",
       "      <td>2.0</td>\n",
       "      <td>0</td>\n",
       "      <td>0</td>\n",
       "      <td>3</td>\n",
       "      <td>...</td>\n",
       "      <td>2170</td>\n",
       "      <td>400</td>\n",
       "      <td>1951</td>\n",
       "      <td>1991</td>\n",
       "      <td>98125</td>\n",
       "      <td>47.7210</td>\n",
       "      <td>-122.319</td>\n",
       "      <td>1690</td>\n",
       "      <td>7639</td>\n",
       "      <td>538000</td>\n",
       "    </tr>\n",
       "    <tr>\n",
       "      <th>2</th>\n",
       "      <td>5631500400</td>\n",
       "      <td>2/25/15</td>\n",
       "      <td>2</td>\n",
       "      <td>1.00</td>\n",
       "      <td>770</td>\n",
       "      <td>10000</td>\n",
       "      <td>1.0</td>\n",
       "      <td>0</td>\n",
       "      <td>0</td>\n",
       "      <td>3</td>\n",
       "      <td>...</td>\n",
       "      <td>770</td>\n",
       "      <td>0</td>\n",
       "      <td>1933</td>\n",
       "      <td>0</td>\n",
       "      <td>98028</td>\n",
       "      <td>47.7379</td>\n",
       "      <td>-122.233</td>\n",
       "      <td>2720</td>\n",
       "      <td>8062</td>\n",
       "      <td>180000</td>\n",
       "    </tr>\n",
       "    <tr>\n",
       "      <th>3</th>\n",
       "      <td>2487200875</td>\n",
       "      <td>12/9/14</td>\n",
       "      <td>4</td>\n",
       "      <td>3.00</td>\n",
       "      <td>1960</td>\n",
       "      <td>5000</td>\n",
       "      <td>1.0</td>\n",
       "      <td>0</td>\n",
       "      <td>0</td>\n",
       "      <td>5</td>\n",
       "      <td>...</td>\n",
       "      <td>1050</td>\n",
       "      <td>910</td>\n",
       "      <td>1965</td>\n",
       "      <td>0</td>\n",
       "      <td>98136</td>\n",
       "      <td>47.5208</td>\n",
       "      <td>-122.393</td>\n",
       "      <td>1360</td>\n",
       "      <td>5000</td>\n",
       "      <td>604000</td>\n",
       "    </tr>\n",
       "    <tr>\n",
       "      <th>4</th>\n",
       "      <td>1954400510</td>\n",
       "      <td>2/18/15</td>\n",
       "      <td>3</td>\n",
       "      <td>2.00</td>\n",
       "      <td>1680</td>\n",
       "      <td>8080</td>\n",
       "      <td>1.0</td>\n",
       "      <td>0</td>\n",
       "      <td>0</td>\n",
       "      <td>3</td>\n",
       "      <td>...</td>\n",
       "      <td>1680</td>\n",
       "      <td>0</td>\n",
       "      <td>1987</td>\n",
       "      <td>0</td>\n",
       "      <td>98074</td>\n",
       "      <td>47.6168</td>\n",
       "      <td>-122.045</td>\n",
       "      <td>1800</td>\n",
       "      <td>7503</td>\n",
       "      <td>510000</td>\n",
       "    </tr>\n",
       "    <tr>\n",
       "      <th>...</th>\n",
       "      <td>...</td>\n",
       "      <td>...</td>\n",
       "      <td>...</td>\n",
       "      <td>...</td>\n",
       "      <td>...</td>\n",
       "      <td>...</td>\n",
       "      <td>...</td>\n",
       "      <td>...</td>\n",
       "      <td>...</td>\n",
       "      <td>...</td>\n",
       "      <td>...</td>\n",
       "      <td>...</td>\n",
       "      <td>...</td>\n",
       "      <td>...</td>\n",
       "      <td>...</td>\n",
       "      <td>...</td>\n",
       "      <td>...</td>\n",
       "      <td>...</td>\n",
       "      <td>...</td>\n",
       "      <td>...</td>\n",
       "      <td>...</td>\n",
       "    </tr>\n",
       "    <tr>\n",
       "      <th>21592</th>\n",
       "      <td>263000018</td>\n",
       "      <td>5/21/14</td>\n",
       "      <td>3</td>\n",
       "      <td>2.50</td>\n",
       "      <td>1530</td>\n",
       "      <td>1131</td>\n",
       "      <td>3.0</td>\n",
       "      <td>0</td>\n",
       "      <td>0</td>\n",
       "      <td>3</td>\n",
       "      <td>...</td>\n",
       "      <td>1530</td>\n",
       "      <td>0</td>\n",
       "      <td>2009</td>\n",
       "      <td>0</td>\n",
       "      <td>98103</td>\n",
       "      <td>47.6993</td>\n",
       "      <td>-122.346</td>\n",
       "      <td>1530</td>\n",
       "      <td>1509</td>\n",
       "      <td>360000</td>\n",
       "    </tr>\n",
       "    <tr>\n",
       "      <th>21593</th>\n",
       "      <td>6600060120</td>\n",
       "      <td>2/23/15</td>\n",
       "      <td>4</td>\n",
       "      <td>2.50</td>\n",
       "      <td>2310</td>\n",
       "      <td>5813</td>\n",
       "      <td>2.0</td>\n",
       "      <td>0</td>\n",
       "      <td>0</td>\n",
       "      <td>3</td>\n",
       "      <td>...</td>\n",
       "      <td>2310</td>\n",
       "      <td>0</td>\n",
       "      <td>2014</td>\n",
       "      <td>0</td>\n",
       "      <td>98146</td>\n",
       "      <td>47.5107</td>\n",
       "      <td>-122.362</td>\n",
       "      <td>1830</td>\n",
       "      <td>7200</td>\n",
       "      <td>400000</td>\n",
       "    </tr>\n",
       "    <tr>\n",
       "      <th>21594</th>\n",
       "      <td>1523300141</td>\n",
       "      <td>6/23/14</td>\n",
       "      <td>2</td>\n",
       "      <td>0.75</td>\n",
       "      <td>1020</td>\n",
       "      <td>1350</td>\n",
       "      <td>2.0</td>\n",
       "      <td>0</td>\n",
       "      <td>0</td>\n",
       "      <td>3</td>\n",
       "      <td>...</td>\n",
       "      <td>1020</td>\n",
       "      <td>0</td>\n",
       "      <td>2009</td>\n",
       "      <td>0</td>\n",
       "      <td>98144</td>\n",
       "      <td>47.5944</td>\n",
       "      <td>-122.299</td>\n",
       "      <td>1020</td>\n",
       "      <td>2007</td>\n",
       "      <td>402101</td>\n",
       "    </tr>\n",
       "    <tr>\n",
       "      <th>21595</th>\n",
       "      <td>291310100</td>\n",
       "      <td>1/16/15</td>\n",
       "      <td>3</td>\n",
       "      <td>2.50</td>\n",
       "      <td>1600</td>\n",
       "      <td>2388</td>\n",
       "      <td>2.0</td>\n",
       "      <td>0</td>\n",
       "      <td>0</td>\n",
       "      <td>3</td>\n",
       "      <td>...</td>\n",
       "      <td>1600</td>\n",
       "      <td>0</td>\n",
       "      <td>2004</td>\n",
       "      <td>0</td>\n",
       "      <td>98027</td>\n",
       "      <td>47.5345</td>\n",
       "      <td>-122.069</td>\n",
       "      <td>1410</td>\n",
       "      <td>1287</td>\n",
       "      <td>400000</td>\n",
       "    </tr>\n",
       "    <tr>\n",
       "      <th>21596</th>\n",
       "      <td>1523300157</td>\n",
       "      <td>10/15/14</td>\n",
       "      <td>2</td>\n",
       "      <td>0.75</td>\n",
       "      <td>1020</td>\n",
       "      <td>1076</td>\n",
       "      <td>2.0</td>\n",
       "      <td>0</td>\n",
       "      <td>0</td>\n",
       "      <td>3</td>\n",
       "      <td>...</td>\n",
       "      <td>1020</td>\n",
       "      <td>0</td>\n",
       "      <td>2008</td>\n",
       "      <td>0</td>\n",
       "      <td>98144</td>\n",
       "      <td>47.5941</td>\n",
       "      <td>-122.299</td>\n",
       "      <td>1020</td>\n",
       "      <td>1357</td>\n",
       "      <td>325000</td>\n",
       "    </tr>\n",
       "  </tbody>\n",
       "</table>\n",
       "<p>21597 rows × 21 columns</p>\n",
       "</div>"
      ],
      "text/plain": [
       "               id      date  bedrooms  bathrooms  sqft_living  sqft_lot  \\\n",
       "0      7129300520  10/13/14         3       1.00         1180      5650   \n",
       "1      6414100192   12/9/14         3       2.25         2570      7242   \n",
       "2      5631500400   2/25/15         2       1.00          770     10000   \n",
       "3      2487200875   12/9/14         4       3.00         1960      5000   \n",
       "4      1954400510   2/18/15         3       2.00         1680      8080   \n",
       "...           ...       ...       ...        ...          ...       ...   \n",
       "21592   263000018   5/21/14         3       2.50         1530      1131   \n",
       "21593  6600060120   2/23/15         4       2.50         2310      5813   \n",
       "21594  1523300141   6/23/14         2       0.75         1020      1350   \n",
       "21595   291310100   1/16/15         3       2.50         1600      2388   \n",
       "21596  1523300157  10/15/14         2       0.75         1020      1076   \n",
       "\n",
       "       floors  waterfront  view  condition  ...  sqft_above  sqft_basement  \\\n",
       "0         1.0           0     0          3  ...        1180              0   \n",
       "1         2.0           0     0          3  ...        2170            400   \n",
       "2         1.0           0     0          3  ...         770              0   \n",
       "3         1.0           0     0          5  ...        1050            910   \n",
       "4         1.0           0     0          3  ...        1680              0   \n",
       "...       ...         ...   ...        ...  ...         ...            ...   \n",
       "21592     3.0           0     0          3  ...        1530              0   \n",
       "21593     2.0           0     0          3  ...        2310              0   \n",
       "21594     2.0           0     0          3  ...        1020              0   \n",
       "21595     2.0           0     0          3  ...        1600              0   \n",
       "21596     2.0           0     0          3  ...        1020              0   \n",
       "\n",
       "       yr_built  yr_renovated  zipcode      lat     long  sqft_living15  \\\n",
       "0          1955             0    98178  47.5112 -122.257           1340   \n",
       "1          1951          1991    98125  47.7210 -122.319           1690   \n",
       "2          1933             0    98028  47.7379 -122.233           2720   \n",
       "3          1965             0    98136  47.5208 -122.393           1360   \n",
       "4          1987             0    98074  47.6168 -122.045           1800   \n",
       "...         ...           ...      ...      ...      ...            ...   \n",
       "21592      2009             0    98103  47.6993 -122.346           1530   \n",
       "21593      2014             0    98146  47.5107 -122.362           1830   \n",
       "21594      2009             0    98144  47.5944 -122.299           1020   \n",
       "21595      2004             0    98027  47.5345 -122.069           1410   \n",
       "21596      2008             0    98144  47.5941 -122.299           1020   \n",
       "\n",
       "       sqft_lot15   price  \n",
       "0            5650  221900  \n",
       "1            7639  538000  \n",
       "2            8062  180000  \n",
       "3            5000  604000  \n",
       "4            7503  510000  \n",
       "...           ...     ...  \n",
       "21592        1509  360000  \n",
       "21593        7200  400000  \n",
       "21594        2007  402101  \n",
       "21595        1287  400000  \n",
       "21596        1357  325000  \n",
       "\n",
       "[21597 rows x 21 columns]"
      ]
     },
     "execution_count": 25,
     "metadata": {},
     "output_type": "execute_result"
    }
   ],
   "source": [
    "data"
   ]
  },
  {
   "cell_type": "markdown",
   "id": "0d77731d-f638-4c40-86bd-bfe8ee189732",
   "metadata": {},
   "source": [
    "### Data types"
   ]
  },
  {
   "cell_type": "code",
   "execution_count": 26,
   "id": "15e32c9f-4865-478a-8c08-a795c9f9dfdf",
   "metadata": {},
   "outputs": [
    {
     "data": {
      "text/plain": [
       "id                 int64\n",
       "date              object\n",
       "bedrooms           int64\n",
       "bathrooms        float64\n",
       "sqft_living        int64\n",
       "sqft_lot           int64\n",
       "floors           float64\n",
       "waterfront         int64\n",
       "view               int64\n",
       "condition          int64\n",
       "grade              int64\n",
       "sqft_above         int64\n",
       "sqft_basement      int64\n",
       "yr_built           int64\n",
       "yr_renovated       int64\n",
       "zipcode            int64\n",
       "lat              float64\n",
       "long             float64\n",
       "sqft_living15      int64\n",
       "sqft_lot15         int64\n",
       "price              int64\n",
       "dtype: object"
      ]
     },
     "execution_count": 26,
     "metadata": {},
     "output_type": "execute_result"
    }
   ],
   "source": [
    "data.dtypes"
   ]
  },
  {
   "cell_type": "markdown",
   "id": "c8008879-dadb-4bcd-a9de-0896fb46cd80",
   "metadata": {},
   "source": [
    "### Data cleaning"
   ]
  },
  {
   "cell_type": "code",
   "execution_count": 27,
   "id": "35ddea64-4f8a-40df-b855-9db3800adaee",
   "metadata": {},
   "outputs": [],
   "source": [
    "deleted = ['id', 'date', 'sqft_living', 'sqft_lot', 'lat', 'long']\n",
    "years = ['yr_built', 'yr_renovated']\n",
    "categoricals = ['condition', 'zipcode_bin']\n",
    "numericals = ['bedrooms', 'bathrooms', 'floors', 'sqft_above', 'sqft_basement', 'waterfront', 'view', 'yr_built', 'grade', 'yr_renovated', 'sqft_living15', 'sqft_lot15']"
   ]
  },
  {
   "cell_type": "markdown",
   "id": "7e20bea3-7be0-4a45-a7d9-7b4e56669a65",
   "metadata": {
    "tags": []
   },
   "source": [
    "#### Transform date"
   ]
  },
  {
   "cell_type": "code",
   "execution_count": 28,
   "id": "9aabeccd-ab07-415f-9cdd-c724507c71e0",
   "metadata": {},
   "outputs": [],
   "source": [
    "data['yr_built'] = pd.to_datetime(data['yr_built'], errors='coerce')\n",
    "data['yr_built']=pd.DatetimeIndex(data['yr_built']).year"
   ]
  },
  {
   "cell_type": "code",
   "execution_count": 29,
   "id": "778e7738-ba0b-4e3c-9417-ab5544d6bc9c",
   "metadata": {},
   "outputs": [],
   "source": [
    "data['yr_renovated'] = pd.to_datetime(data['yr_renovated'], errors='coerce')\n",
    "data['yr_renovated']=pd.DatetimeIndex(data['yr_renovated']).year"
   ]
  },
  {
   "cell_type": "markdown",
   "id": "f1379791-03c4-4c9e-a26b-d9008be7a595",
   "metadata": {
    "tags": []
   },
   "source": [
    "#### Binning zipcode"
   ]
  },
  {
   "cell_type": "code",
   "execution_count": 30,
   "id": "f21a2ba6-e1f1-4f03-aea7-eff59fd0117c",
   "metadata": {},
   "outputs": [
    {
     "data": {
      "text/plain": [
       "70"
      ]
     },
     "execution_count": 30,
     "metadata": {},
     "output_type": "execute_result"
    }
   ],
   "source": [
    "len(data['zipcode'].unique())"
   ]
  },
  {
   "cell_type": "code",
   "execution_count": 31,
   "id": "880012fd-0e7d-4630-98e9-b531d58b1d0f",
   "metadata": {},
   "outputs": [],
   "source": [
    "n = 5\n",
    "step = (data['zipcode'].max() - data['zipcode'].min()) / n"
   ]
  },
  {
   "cell_type": "code",
   "execution_count": 32,
   "id": "849c1fe5-a8df-4426-aca4-b81d81da983d",
   "metadata": {},
   "outputs": [
    {
     "data": {
      "text/plain": [
       "False"
      ]
     },
     "execution_count": 32,
     "metadata": {},
     "output_type": "execute_result"
    }
   ],
   "source": [
    "98000 in pd.cut(data['zipcode'], 5).iloc[0]"
   ]
  },
  {
   "cell_type": "code",
   "execution_count": 33,
   "id": "ee3312bb-d3e9-4ed0-87b9-32e26089dd68",
   "metadata": {
    "tags": []
   },
   "outputs": [],
   "source": [
    "intervals = pd.cut(data['zipcode'], 5)\n",
    "def binning(zipcode):\n",
    "    if zipcode in intervals.iloc[0]:\n",
    "        return 'A'\n",
    "    elif zipcode in intervals.iloc[1]:\n",
    "        return 'B'\n",
    "    elif zipcode in intervals.iloc[2]:\n",
    "        return 'C'\n",
    "    elif zipcode in intervals.iloc[3]:\n",
    "        return 'D'\n",
    "    else:\n",
    "        return 'E'  "
   ]
  },
  {
   "cell_type": "code",
   "execution_count": 34,
   "id": "d80a86e2-c42e-491f-9ccc-0bc66638a20c",
   "metadata": {},
   "outputs": [],
   "source": [
    "data['zipcode_bin'] = data['zipcode'].apply(binning)"
   ]
  },
  {
   "cell_type": "code",
   "execution_count": 35,
   "id": "5d5b7650-69bc-4651-b483-b493c1da677e",
   "metadata": {},
   "outputs": [],
   "source": [
    "data = data.drop (columns = ['zipcode'])"
   ]
  },
  {
   "cell_type": "code",
   "execution_count": 36,
   "id": "0605987d-2e76-4244-8ebc-3815f9fea8e7",
   "metadata": {},
   "outputs": [
    {
     "data": {
      "text/html": [
       "<div>\n",
       "<style scoped>\n",
       "    .dataframe tbody tr th:only-of-type {\n",
       "        vertical-align: middle;\n",
       "    }\n",
       "\n",
       "    .dataframe tbody tr th {\n",
       "        vertical-align: top;\n",
       "    }\n",
       "\n",
       "    .dataframe thead th {\n",
       "        text-align: right;\n",
       "    }\n",
       "</style>\n",
       "<table border=\"1\" class=\"dataframe\">\n",
       "  <thead>\n",
       "    <tr style=\"text-align: right;\">\n",
       "      <th></th>\n",
       "      <th>id</th>\n",
       "      <th>date</th>\n",
       "      <th>bedrooms</th>\n",
       "      <th>bathrooms</th>\n",
       "      <th>sqft_living</th>\n",
       "      <th>sqft_lot</th>\n",
       "      <th>floors</th>\n",
       "      <th>waterfront</th>\n",
       "      <th>view</th>\n",
       "      <th>condition</th>\n",
       "      <th>...</th>\n",
       "      <th>sqft_above</th>\n",
       "      <th>sqft_basement</th>\n",
       "      <th>yr_built</th>\n",
       "      <th>yr_renovated</th>\n",
       "      <th>lat</th>\n",
       "      <th>long</th>\n",
       "      <th>sqft_living15</th>\n",
       "      <th>sqft_lot15</th>\n",
       "      <th>price</th>\n",
       "      <th>zipcode_bin</th>\n",
       "    </tr>\n",
       "  </thead>\n",
       "  <tbody>\n",
       "    <tr>\n",
       "      <th>0</th>\n",
       "      <td>7129300520</td>\n",
       "      <td>10/13/14</td>\n",
       "      <td>3</td>\n",
       "      <td>1.00</td>\n",
       "      <td>1180</td>\n",
       "      <td>5650</td>\n",
       "      <td>1.0</td>\n",
       "      <td>0</td>\n",
       "      <td>0</td>\n",
       "      <td>3</td>\n",
       "      <td>...</td>\n",
       "      <td>1180</td>\n",
       "      <td>0</td>\n",
       "      <td>1970</td>\n",
       "      <td>1970</td>\n",
       "      <td>47.5112</td>\n",
       "      <td>-122.257</td>\n",
       "      <td>1340</td>\n",
       "      <td>5650</td>\n",
       "      <td>221900</td>\n",
       "      <td>A</td>\n",
       "    </tr>\n",
       "    <tr>\n",
       "      <th>1</th>\n",
       "      <td>6414100192</td>\n",
       "      <td>12/9/14</td>\n",
       "      <td>3</td>\n",
       "      <td>2.25</td>\n",
       "      <td>2570</td>\n",
       "      <td>7242</td>\n",
       "      <td>2.0</td>\n",
       "      <td>0</td>\n",
       "      <td>0</td>\n",
       "      <td>3</td>\n",
       "      <td>...</td>\n",
       "      <td>2170</td>\n",
       "      <td>400</td>\n",
       "      <td>1970</td>\n",
       "      <td>1970</td>\n",
       "      <td>47.7210</td>\n",
       "      <td>-122.319</td>\n",
       "      <td>1690</td>\n",
       "      <td>7639</td>\n",
       "      <td>538000</td>\n",
       "      <td>B</td>\n",
       "    </tr>\n",
       "    <tr>\n",
       "      <th>2</th>\n",
       "      <td>5631500400</td>\n",
       "      <td>2/25/15</td>\n",
       "      <td>2</td>\n",
       "      <td>1.00</td>\n",
       "      <td>770</td>\n",
       "      <td>10000</td>\n",
       "      <td>1.0</td>\n",
       "      <td>0</td>\n",
       "      <td>0</td>\n",
       "      <td>3</td>\n",
       "      <td>...</td>\n",
       "      <td>770</td>\n",
       "      <td>0</td>\n",
       "      <td>1970</td>\n",
       "      <td>1970</td>\n",
       "      <td>47.7379</td>\n",
       "      <td>-122.233</td>\n",
       "      <td>2720</td>\n",
       "      <td>8062</td>\n",
       "      <td>180000</td>\n",
       "      <td>C</td>\n",
       "    </tr>\n",
       "  </tbody>\n",
       "</table>\n",
       "<p>3 rows × 21 columns</p>\n",
       "</div>"
      ],
      "text/plain": [
       "           id      date  bedrooms  bathrooms  sqft_living  sqft_lot  floors  \\\n",
       "0  7129300520  10/13/14         3       1.00         1180      5650     1.0   \n",
       "1  6414100192   12/9/14         3       2.25         2570      7242     2.0   \n",
       "2  5631500400   2/25/15         2       1.00          770     10000     1.0   \n",
       "\n",
       "   waterfront  view  condition  ...  sqft_above  sqft_basement  yr_built  \\\n",
       "0           0     0          3  ...        1180              0      1970   \n",
       "1           0     0          3  ...        2170            400      1970   \n",
       "2           0     0          3  ...         770              0      1970   \n",
       "\n",
       "   yr_renovated      lat     long  sqft_living15  sqft_lot15   price  \\\n",
       "0          1970  47.5112 -122.257           1340        5650  221900   \n",
       "1          1970  47.7210 -122.319           1690        7639  538000   \n",
       "2          1970  47.7379 -122.233           2720        8062  180000   \n",
       "\n",
       "   zipcode_bin  \n",
       "0            A  \n",
       "1            B  \n",
       "2            C  \n",
       "\n",
       "[3 rows x 21 columns]"
      ]
     },
     "execution_count": 36,
     "metadata": {},
     "output_type": "execute_result"
    }
   ],
   "source": [
    "data.head(3)"
   ]
  },
  {
   "cell_type": "markdown",
   "id": "27d86d2a-e13f-4d96-bd6c-11befb4575fc",
   "metadata": {
    "tags": []
   },
   "source": [
    "#### Transform to categoricals"
   ]
  },
  {
   "cell_type": "code",
   "execution_count": 37,
   "id": "94474e54-ce8e-4acf-ad2b-01a7573d99d7",
   "metadata": {},
   "outputs": [],
   "source": [
    "for i in categoricals:\n",
    "    data[i] = data[i].astype(object)"
   ]
  },
  {
   "cell_type": "code",
   "execution_count": 38,
   "id": "e16538d6-1042-4363-97df-5406a264b867",
   "metadata": {},
   "outputs": [
    {
     "data": {
      "text/plain": [
       "id                 int64\n",
       "date              object\n",
       "bedrooms           int64\n",
       "bathrooms        float64\n",
       "sqft_living        int64\n",
       "sqft_lot           int64\n",
       "floors           float64\n",
       "waterfront         int64\n",
       "view               int64\n",
       "condition         object\n",
       "grade              int64\n",
       "sqft_above         int64\n",
       "sqft_basement      int64\n",
       "yr_built           int64\n",
       "yr_renovated       int64\n",
       "lat              float64\n",
       "long             float64\n",
       "sqft_living15      int64\n",
       "sqft_lot15         int64\n",
       "price              int64\n",
       "zipcode_bin       object\n",
       "dtype: object"
      ]
     },
     "execution_count": 38,
     "metadata": {},
     "output_type": "execute_result"
    }
   ],
   "source": [
    "data.dtypes"
   ]
  },
  {
   "cell_type": "markdown",
   "id": "a51477ae-0e95-444a-b287-16c07e246e20",
   "metadata": {
    "tags": []
   },
   "source": [
    "#### Deleted"
   ]
  },
  {
   "cell_type": "code",
   "execution_count": 39,
   "id": "d1949609-b8f2-47d6-be42-08d552f8306a",
   "metadata": {},
   "outputs": [
    {
     "data": {
      "text/html": [
       "<div>\n",
       "<style scoped>\n",
       "    .dataframe tbody tr th:only-of-type {\n",
       "        vertical-align: middle;\n",
       "    }\n",
       "\n",
       "    .dataframe tbody tr th {\n",
       "        vertical-align: top;\n",
       "    }\n",
       "\n",
       "    .dataframe thead th {\n",
       "        text-align: right;\n",
       "    }\n",
       "</style>\n",
       "<table border=\"1\" class=\"dataframe\">\n",
       "  <thead>\n",
       "    <tr style=\"text-align: right;\">\n",
       "      <th></th>\n",
       "      <th>bedrooms</th>\n",
       "      <th>bathrooms</th>\n",
       "      <th>floors</th>\n",
       "      <th>waterfront</th>\n",
       "      <th>view</th>\n",
       "      <th>condition</th>\n",
       "      <th>grade</th>\n",
       "      <th>sqft_above</th>\n",
       "      <th>sqft_basement</th>\n",
       "      <th>yr_built</th>\n",
       "      <th>yr_renovated</th>\n",
       "      <th>sqft_living15</th>\n",
       "      <th>sqft_lot15</th>\n",
       "      <th>price</th>\n",
       "      <th>zipcode_bin</th>\n",
       "    </tr>\n",
       "  </thead>\n",
       "  <tbody>\n",
       "    <tr>\n",
       "      <th>0</th>\n",
       "      <td>3</td>\n",
       "      <td>1.00</td>\n",
       "      <td>1.0</td>\n",
       "      <td>0</td>\n",
       "      <td>0</td>\n",
       "      <td>3</td>\n",
       "      <td>7</td>\n",
       "      <td>1180</td>\n",
       "      <td>0</td>\n",
       "      <td>1970</td>\n",
       "      <td>1970</td>\n",
       "      <td>1340</td>\n",
       "      <td>5650</td>\n",
       "      <td>221900</td>\n",
       "      <td>A</td>\n",
       "    </tr>\n",
       "    <tr>\n",
       "      <th>1</th>\n",
       "      <td>3</td>\n",
       "      <td>2.25</td>\n",
       "      <td>2.0</td>\n",
       "      <td>0</td>\n",
       "      <td>0</td>\n",
       "      <td>3</td>\n",
       "      <td>7</td>\n",
       "      <td>2170</td>\n",
       "      <td>400</td>\n",
       "      <td>1970</td>\n",
       "      <td>1970</td>\n",
       "      <td>1690</td>\n",
       "      <td>7639</td>\n",
       "      <td>538000</td>\n",
       "      <td>B</td>\n",
       "    </tr>\n",
       "    <tr>\n",
       "      <th>2</th>\n",
       "      <td>2</td>\n",
       "      <td>1.00</td>\n",
       "      <td>1.0</td>\n",
       "      <td>0</td>\n",
       "      <td>0</td>\n",
       "      <td>3</td>\n",
       "      <td>6</td>\n",
       "      <td>770</td>\n",
       "      <td>0</td>\n",
       "      <td>1970</td>\n",
       "      <td>1970</td>\n",
       "      <td>2720</td>\n",
       "      <td>8062</td>\n",
       "      <td>180000</td>\n",
       "      <td>C</td>\n",
       "    </tr>\n",
       "    <tr>\n",
       "      <th>3</th>\n",
       "      <td>4</td>\n",
       "      <td>3.00</td>\n",
       "      <td>1.0</td>\n",
       "      <td>0</td>\n",
       "      <td>0</td>\n",
       "      <td>5</td>\n",
       "      <td>7</td>\n",
       "      <td>1050</td>\n",
       "      <td>910</td>\n",
       "      <td>1970</td>\n",
       "      <td>1970</td>\n",
       "      <td>1360</td>\n",
       "      <td>5000</td>\n",
       "      <td>604000</td>\n",
       "      <td>B</td>\n",
       "    </tr>\n",
       "    <tr>\n",
       "      <th>4</th>\n",
       "      <td>3</td>\n",
       "      <td>2.00</td>\n",
       "      <td>1.0</td>\n",
       "      <td>0</td>\n",
       "      <td>0</td>\n",
       "      <td>3</td>\n",
       "      <td>8</td>\n",
       "      <td>1680</td>\n",
       "      <td>0</td>\n",
       "      <td>1970</td>\n",
       "      <td>1970</td>\n",
       "      <td>1800</td>\n",
       "      <td>7503</td>\n",
       "      <td>510000</td>\n",
       "      <td>E</td>\n",
       "    </tr>\n",
       "    <tr>\n",
       "      <th>...</th>\n",
       "      <td>...</td>\n",
       "      <td>...</td>\n",
       "      <td>...</td>\n",
       "      <td>...</td>\n",
       "      <td>...</td>\n",
       "      <td>...</td>\n",
       "      <td>...</td>\n",
       "      <td>...</td>\n",
       "      <td>...</td>\n",
       "      <td>...</td>\n",
       "      <td>...</td>\n",
       "      <td>...</td>\n",
       "      <td>...</td>\n",
       "      <td>...</td>\n",
       "      <td>...</td>\n",
       "    </tr>\n",
       "    <tr>\n",
       "      <th>21592</th>\n",
       "      <td>3</td>\n",
       "      <td>2.50</td>\n",
       "      <td>3.0</td>\n",
       "      <td>0</td>\n",
       "      <td>0</td>\n",
       "      <td>3</td>\n",
       "      <td>8</td>\n",
       "      <td>1530</td>\n",
       "      <td>0</td>\n",
       "      <td>1970</td>\n",
       "      <td>1970</td>\n",
       "      <td>1530</td>\n",
       "      <td>1509</td>\n",
       "      <td>360000</td>\n",
       "      <td>E</td>\n",
       "    </tr>\n",
       "    <tr>\n",
       "      <th>21593</th>\n",
       "      <td>4</td>\n",
       "      <td>2.50</td>\n",
       "      <td>2.0</td>\n",
       "      <td>0</td>\n",
       "      <td>0</td>\n",
       "      <td>3</td>\n",
       "      <td>8</td>\n",
       "      <td>2310</td>\n",
       "      <td>0</td>\n",
       "      <td>1970</td>\n",
       "      <td>1970</td>\n",
       "      <td>1830</td>\n",
       "      <td>7200</td>\n",
       "      <td>400000</td>\n",
       "      <td>B</td>\n",
       "    </tr>\n",
       "    <tr>\n",
       "      <th>21594</th>\n",
       "      <td>2</td>\n",
       "      <td>0.75</td>\n",
       "      <td>2.0</td>\n",
       "      <td>0</td>\n",
       "      <td>0</td>\n",
       "      <td>3</td>\n",
       "      <td>7</td>\n",
       "      <td>1020</td>\n",
       "      <td>0</td>\n",
       "      <td>1970</td>\n",
       "      <td>1970</td>\n",
       "      <td>1020</td>\n",
       "      <td>2007</td>\n",
       "      <td>402101</td>\n",
       "      <td>B</td>\n",
       "    </tr>\n",
       "    <tr>\n",
       "      <th>21595</th>\n",
       "      <td>3</td>\n",
       "      <td>2.50</td>\n",
       "      <td>2.0</td>\n",
       "      <td>0</td>\n",
       "      <td>0</td>\n",
       "      <td>3</td>\n",
       "      <td>8</td>\n",
       "      <td>1600</td>\n",
       "      <td>0</td>\n",
       "      <td>1970</td>\n",
       "      <td>1970</td>\n",
       "      <td>1410</td>\n",
       "      <td>1287</td>\n",
       "      <td>400000</td>\n",
       "      <td>C</td>\n",
       "    </tr>\n",
       "    <tr>\n",
       "      <th>21596</th>\n",
       "      <td>2</td>\n",
       "      <td>0.75</td>\n",
       "      <td>2.0</td>\n",
       "      <td>0</td>\n",
       "      <td>0</td>\n",
       "      <td>3</td>\n",
       "      <td>7</td>\n",
       "      <td>1020</td>\n",
       "      <td>0</td>\n",
       "      <td>1970</td>\n",
       "      <td>1970</td>\n",
       "      <td>1020</td>\n",
       "      <td>1357</td>\n",
       "      <td>325000</td>\n",
       "      <td>B</td>\n",
       "    </tr>\n",
       "  </tbody>\n",
       "</table>\n",
       "<p>21597 rows × 15 columns</p>\n",
       "</div>"
      ],
      "text/plain": [
       "       bedrooms  bathrooms  floors  waterfront  view condition  grade  \\\n",
       "0             3       1.00     1.0           0     0         3      7   \n",
       "1             3       2.25     2.0           0     0         3      7   \n",
       "2             2       1.00     1.0           0     0         3      6   \n",
       "3             4       3.00     1.0           0     0         5      7   \n",
       "4             3       2.00     1.0           0     0         3      8   \n",
       "...         ...        ...     ...         ...   ...       ...    ...   \n",
       "21592         3       2.50     3.0           0     0         3      8   \n",
       "21593         4       2.50     2.0           0     0         3      8   \n",
       "21594         2       0.75     2.0           0     0         3      7   \n",
       "21595         3       2.50     2.0           0     0         3      8   \n",
       "21596         2       0.75     2.0           0     0         3      7   \n",
       "\n",
       "       sqft_above  sqft_basement  yr_built  yr_renovated  sqft_living15  \\\n",
       "0            1180              0      1970          1970           1340   \n",
       "1            2170            400      1970          1970           1690   \n",
       "2             770              0      1970          1970           2720   \n",
       "3            1050            910      1970          1970           1360   \n",
       "4            1680              0      1970          1970           1800   \n",
       "...           ...            ...       ...           ...            ...   \n",
       "21592        1530              0      1970          1970           1530   \n",
       "21593        2310              0      1970          1970           1830   \n",
       "21594        1020              0      1970          1970           1020   \n",
       "21595        1600              0      1970          1970           1410   \n",
       "21596        1020              0      1970          1970           1020   \n",
       "\n",
       "       sqft_lot15   price zipcode_bin  \n",
       "0            5650  221900           A  \n",
       "1            7639  538000           B  \n",
       "2            8062  180000           C  \n",
       "3            5000  604000           B  \n",
       "4            7503  510000           E  \n",
       "...           ...     ...         ...  \n",
       "21592        1509  360000           E  \n",
       "21593        7200  400000           B  \n",
       "21594        2007  402101           B  \n",
       "21595        1287  400000           C  \n",
       "21596        1357  325000           B  \n",
       "\n",
       "[21597 rows x 15 columns]"
      ]
     },
     "execution_count": 39,
     "metadata": {},
     "output_type": "execute_result"
    }
   ],
   "source": [
    "data = data.drop(columns = ['id', 'date', 'lat', 'long', 'sqft_living', 'sqft_lot'])\n",
    "data"
   ]
  },
  {
   "cell_type": "code",
   "execution_count": 40,
   "id": "b86f7f75-f065-4a41-8df0-c30f4796da4a",
   "metadata": {},
   "outputs": [
    {
     "data": {
      "text/html": [
       "<div>\n",
       "<style scoped>\n",
       "    .dataframe tbody tr th:only-of-type {\n",
       "        vertical-align: middle;\n",
       "    }\n",
       "\n",
       "    .dataframe tbody tr th {\n",
       "        vertical-align: top;\n",
       "    }\n",
       "\n",
       "    .dataframe thead th {\n",
       "        text-align: right;\n",
       "    }\n",
       "</style>\n",
       "<table border=\"1\" class=\"dataframe\">\n",
       "  <thead>\n",
       "    <tr style=\"text-align: right;\">\n",
       "      <th></th>\n",
       "      <th>bedrooms</th>\n",
       "      <th>bathrooms</th>\n",
       "      <th>floors</th>\n",
       "      <th>waterfront</th>\n",
       "      <th>view</th>\n",
       "      <th>condition</th>\n",
       "      <th>grade</th>\n",
       "      <th>sqft_above</th>\n",
       "      <th>sqft_basement</th>\n",
       "      <th>yr_built</th>\n",
       "      <th>yr_renovated</th>\n",
       "      <th>sqft_living15</th>\n",
       "      <th>sqft_lot15</th>\n",
       "      <th>price</th>\n",
       "      <th>zipcode_bin</th>\n",
       "    </tr>\n",
       "  </thead>\n",
       "  <tbody>\n",
       "    <tr>\n",
       "      <th>0</th>\n",
       "      <td>3</td>\n",
       "      <td>1.00</td>\n",
       "      <td>1.0</td>\n",
       "      <td>0</td>\n",
       "      <td>0</td>\n",
       "      <td>3</td>\n",
       "      <td>7</td>\n",
       "      <td>1180</td>\n",
       "      <td>0</td>\n",
       "      <td>1970</td>\n",
       "      <td>1970</td>\n",
       "      <td>1340</td>\n",
       "      <td>5650</td>\n",
       "      <td>221900</td>\n",
       "      <td>A</td>\n",
       "    </tr>\n",
       "    <tr>\n",
       "      <th>1</th>\n",
       "      <td>3</td>\n",
       "      <td>2.25</td>\n",
       "      <td>2.0</td>\n",
       "      <td>0</td>\n",
       "      <td>0</td>\n",
       "      <td>3</td>\n",
       "      <td>7</td>\n",
       "      <td>2170</td>\n",
       "      <td>400</td>\n",
       "      <td>1970</td>\n",
       "      <td>1970</td>\n",
       "      <td>1690</td>\n",
       "      <td>7639</td>\n",
       "      <td>538000</td>\n",
       "      <td>B</td>\n",
       "    </tr>\n",
       "    <tr>\n",
       "      <th>2</th>\n",
       "      <td>2</td>\n",
       "      <td>1.00</td>\n",
       "      <td>1.0</td>\n",
       "      <td>0</td>\n",
       "      <td>0</td>\n",
       "      <td>3</td>\n",
       "      <td>6</td>\n",
       "      <td>770</td>\n",
       "      <td>0</td>\n",
       "      <td>1970</td>\n",
       "      <td>1970</td>\n",
       "      <td>2720</td>\n",
       "      <td>8062</td>\n",
       "      <td>180000</td>\n",
       "      <td>C</td>\n",
       "    </tr>\n",
       "    <tr>\n",
       "      <th>3</th>\n",
       "      <td>4</td>\n",
       "      <td>3.00</td>\n",
       "      <td>1.0</td>\n",
       "      <td>0</td>\n",
       "      <td>0</td>\n",
       "      <td>5</td>\n",
       "      <td>7</td>\n",
       "      <td>1050</td>\n",
       "      <td>910</td>\n",
       "      <td>1970</td>\n",
       "      <td>1970</td>\n",
       "      <td>1360</td>\n",
       "      <td>5000</td>\n",
       "      <td>604000</td>\n",
       "      <td>B</td>\n",
       "    </tr>\n",
       "    <tr>\n",
       "      <th>4</th>\n",
       "      <td>3</td>\n",
       "      <td>2.00</td>\n",
       "      <td>1.0</td>\n",
       "      <td>0</td>\n",
       "      <td>0</td>\n",
       "      <td>3</td>\n",
       "      <td>8</td>\n",
       "      <td>1680</td>\n",
       "      <td>0</td>\n",
       "      <td>1970</td>\n",
       "      <td>1970</td>\n",
       "      <td>1800</td>\n",
       "      <td>7503</td>\n",
       "      <td>510000</td>\n",
       "      <td>E</td>\n",
       "    </tr>\n",
       "  </tbody>\n",
       "</table>\n",
       "</div>"
      ],
      "text/plain": [
       "   bedrooms  bathrooms  floors  waterfront  view condition  grade  sqft_above  \\\n",
       "0         3       1.00     1.0           0     0         3      7        1180   \n",
       "1         3       2.25     2.0           0     0         3      7        2170   \n",
       "2         2       1.00     1.0           0     0         3      6         770   \n",
       "3         4       3.00     1.0           0     0         5      7        1050   \n",
       "4         3       2.00     1.0           0     0         3      8        1680   \n",
       "\n",
       "   sqft_basement  yr_built  yr_renovated  sqft_living15  sqft_lot15   price  \\\n",
       "0              0      1970          1970           1340        5650  221900   \n",
       "1            400      1970          1970           1690        7639  538000   \n",
       "2              0      1970          1970           2720        8062  180000   \n",
       "3            910      1970          1970           1360        5000  604000   \n",
       "4              0      1970          1970           1800        7503  510000   \n",
       "\n",
       "  zipcode_bin  \n",
       "0           A  \n",
       "1           B  \n",
       "2           C  \n",
       "3           B  \n",
       "4           E  "
      ]
     },
     "execution_count": 40,
     "metadata": {},
     "output_type": "execute_result"
    }
   ],
   "source": [
    "data.head()"
   ]
  },
  {
   "cell_type": "markdown",
   "id": "3ef936a1-199b-4446-b714-c96b525c335e",
   "metadata": {
    "tags": []
   },
   "source": [
    "#### Comprobando NaNs"
   ]
  },
  {
   "cell_type": "code",
   "execution_count": 41,
   "id": "56160614-f638-4fd0-8665-b829276eacfd",
   "metadata": {},
   "outputs": [
    {
     "data": {
      "text/plain": [
       "bedrooms         0\n",
       "bathrooms        0\n",
       "floors           0\n",
       "waterfront       0\n",
       "view             0\n",
       "condition        0\n",
       "grade            0\n",
       "sqft_above       0\n",
       "sqft_basement    0\n",
       "yr_built         0\n",
       "yr_renovated     0\n",
       "sqft_living15    0\n",
       "sqft_lot15       0\n",
       "price            0\n",
       "zipcode_bin      0\n",
       "dtype: int64"
      ]
     },
     "execution_count": 41,
     "metadata": {},
     "output_type": "execute_result"
    }
   ],
   "source": [
    "data.isna().sum()"
   ]
  },
  {
   "cell_type": "markdown",
   "id": "c1c0db03-d14b-4d9f-a483-c78a1e14ff0c",
   "metadata": {},
   "source": [
    "#### Comprobando Outliers"
   ]
  },
  {
   "cell_type": "code",
   "execution_count": 42,
   "id": "147db18f-03b6-4cf5-a46a-9f629cf4cb0f",
   "metadata": {},
   "outputs": [
    {
     "data": {
      "text/plain": [
       "<AxesSubplot:>"
      ]
     },
     "execution_count": 42,
     "metadata": {},
     "output_type": "execute_result"
    },
    {
     "data": {
      "image/png": "[encoded data removed]",
      "text/plain": [
       "<Figure size 432x288 with 1 Axes>"
      ]
     },
     "metadata": {
      "needs_background": "light"
     },
     "output_type": "display_data"
    }
   ],
   "source": [
    "data.boxplot(numericals)"
   ]
  },
  {
   "cell_type": "code",
   "execution_count": 43,
   "id": "38d20d3c-eaa5-461c-8e78-6cf5ba4b1865",
   "metadata": {},
   "outputs": [
    {
     "data": {
      "text/plain": [
       "<AxesSubplot:>"
      ]
     },
     "execution_count": 43,
     "metadata": {},
     "output_type": "execute_result"
    },
    {
     "data": {
      "image/png": "[encoded data removed]",
      "text/plain": [
       "<Figure size 432x288 with 1 Axes>"
      ]
     },
     "metadata": {
      "needs_background": "light"
     },
     "output_type": "display_data"
    }
   ],
   "source": [
    "data.boxplot('sqft_living15')"
   ]
  },
  {
   "cell_type": "code",
   "execution_count": 46,
   "id": "ac295da5-02c4-42d4-bf57-8244bd75fe7e",
   "metadata": {},
   "outputs": [],
   "source": [
    "for x in ['sqft_living15']:\n",
    "    q75,q25 = np.percentile(data.loc[:,x],[75,25])\n",
    "    intr_qr = q75-q25\n",
    " \n",
    "    max = q75+(1.5*intr_qr)\n",
    "    min = q25-(1.5*intr_qr)\n",
    " \n",
    "    data.loc[data[x] < min,x] = np.nan\n",
    "    data.loc[data[x] > max,x] = np.nan"
   ]
  },
  {
   "cell_type": "code",
   "execution_count": 47,
   "id": "08252784-ddca-4213-aec1-1e1524da5477",
   "metadata": {},
   "outputs": [],
   "source": [
    "data = data.dropna(axis = 0)"
   ]
  },
  {
   "cell_type": "code",
   "execution_count": 48,
   "id": "8de8f590-2247-4f30-b655-982c94fbed01",
   "metadata": {},
   "outputs": [
    {
     "name": "stderr",
     "output_type": "stream",
     "text": [
      "C:\\Users\\CG921YH\\AppData\\Local\\Temp\\ipykernel_41888\\292961179.py:8: SettingWithCopyWarning: \n",
      "A value is trying to be set on a copy of a slice from a DataFrame.\n",
      "Try using .loc[row_indexer,col_indexer] = value instead\n",
      "\n",
      "See the caveats in the documentation: https://pandas.pydata.org/pandas-docs/stable/user_guide/indexing.html#returning-a-view-versus-a-copy\n",
      "  data.loc[data[x] < min,x] = np.nan\n"
     ]
    }
   ],
   "source": [
    "for x in ['sqft_lot15']:\n",
    "    q75,q25 = np.percentile(data.loc[:,x],[75,25])\n",
    "    intr_qr = q75-q25\n",
    " \n",
    "    max = q75+(1.5*intr_qr)\n",
    "    min = q25-(1.5*intr_qr)\n",
    " \n",
    "    data.loc[data[x] < min,x] = np.nan\n",
    "    data.loc[data[x] > max,x] = np.nan"
   ]
  },
  {
   "cell_type": "code",
   "execution_count": 49,
   "id": "299ac740-d1bb-4f76-84f7-f9cdc2cce41e",
   "metadata": {},
   "outputs": [],
   "source": [
    "data = data.dropna(axis = 0)"
   ]
  },
  {
   "cell_type": "code",
   "execution_count": 50,
   "id": "a51ccba4-ccd4-40e9-9402-0a2664507bcb",
   "metadata": {},
   "outputs": [
    {
     "data": {
      "text/plain": [
       "bedrooms         0\n",
       "bathrooms        0\n",
       "floors           0\n",
       "waterfront       0\n",
       "view             0\n",
       "condition        0\n",
       "grade            0\n",
       "sqft_above       0\n",
       "sqft_basement    0\n",
       "yr_built         0\n",
       "yr_renovated     0\n",
       "sqft_living15    0\n",
       "sqft_lot15       0\n",
       "price            0\n",
       "zipcode_bin      0\n",
       "dtype: int64"
      ]
     },
     "execution_count": 50,
     "metadata": {},
     "output_type": "execute_result"
    }
   ],
   "source": [
    "data.isna().sum()"
   ]
  },
  {
   "cell_type": "markdown",
   "id": "9e6c30de-6dd5-4477-a6e2-c8dde08c1289",
   "metadata": {
    "tags": []
   },
   "source": [
    "### Standardize"
   ]
  },
  {
   "cell_type": "code",
   "execution_count": 51,
   "id": "d4523271-751d-4339-adf7-30b3005e00f0",
   "metadata": {},
   "outputs": [],
   "source": [
    "from sklearn.preprocessing import StandardScaler"
   ]
  },
  {
   "cell_type": "code",
   "execution_count": 52,
   "id": "26b08170-b288-486e-8fc8-bfe8c974ca4b",
   "metadata": {
    "tags": []
   },
   "outputs": [],
   "source": [
    "for c in numericals:   # we'll normalize all column except the last one (the target column)\n",
    "    data[c]=StandardScaler().fit_transform(data[c].values.reshape(-1, 1))"
   ]
  },
  {
   "cell_type": "markdown",
   "id": "97446097-6e28-41d4-82c8-5259cbe86182",
   "metadata": {
    "tags": []
   },
   "source": [
    "### Encoding Categorical Data"
   ]
  },
  {
   "cell_type": "code",
   "execution_count": 53,
   "id": "b5680eca-17b0-4b52-835b-f5236f5fca11",
   "metadata": {},
   "outputs": [
    {
     "name": "stderr",
     "output_type": "stream",
     "text": [
      "C:\\Users\\CG921YH\\Anaconda3\\lib\\site-packages\\pandas\\core\\algorithms.py:798: FutureWarning: In a future version, the Index constructor will not infer numeric dtypes when passed object-dtype sequences (matching Series behavior)\n",
      "  uniques = Index(uniques)\n"
     ]
    },
    {
     "data": {
      "text/html": [
       "<div>\n",
       "<style scoped>\n",
       "    .dataframe tbody tr th:only-of-type {\n",
       "        vertical-align: middle;\n",
       "    }\n",
       "\n",
       "    .dataframe tbody tr th {\n",
       "        vertical-align: top;\n",
       "    }\n",
       "\n",
       "    .dataframe thead th {\n",
       "        text-align: right;\n",
       "    }\n",
       "</style>\n",
       "<table border=\"1\" class=\"dataframe\">\n",
       "  <thead>\n",
       "    <tr style=\"text-align: right;\">\n",
       "      <th></th>\n",
       "      <th>condition_1</th>\n",
       "      <th>condition_2</th>\n",
       "      <th>condition_3</th>\n",
       "      <th>condition_4</th>\n",
       "      <th>condition_5</th>\n",
       "      <th>zipcode_bin_A</th>\n",
       "      <th>zipcode_bin_B</th>\n",
       "      <th>zipcode_bin_C</th>\n",
       "      <th>zipcode_bin_E</th>\n",
       "    </tr>\n",
       "  </thead>\n",
       "  <tbody>\n",
       "    <tr>\n",
       "      <th>0</th>\n",
       "      <td>0</td>\n",
       "      <td>0</td>\n",
       "      <td>1</td>\n",
       "      <td>0</td>\n",
       "      <td>0</td>\n",
       "      <td>1</td>\n",
       "      <td>0</td>\n",
       "      <td>0</td>\n",
       "      <td>0</td>\n",
       "    </tr>\n",
       "    <tr>\n",
       "      <th>1</th>\n",
       "      <td>0</td>\n",
       "      <td>0</td>\n",
       "      <td>1</td>\n",
       "      <td>0</td>\n",
       "      <td>0</td>\n",
       "      <td>0</td>\n",
       "      <td>1</td>\n",
       "      <td>0</td>\n",
       "      <td>0</td>\n",
       "    </tr>\n",
       "    <tr>\n",
       "      <th>2</th>\n",
       "      <td>0</td>\n",
       "      <td>0</td>\n",
       "      <td>1</td>\n",
       "      <td>0</td>\n",
       "      <td>0</td>\n",
       "      <td>0</td>\n",
       "      <td>0</td>\n",
       "      <td>1</td>\n",
       "      <td>0</td>\n",
       "    </tr>\n",
       "    <tr>\n",
       "      <th>3</th>\n",
       "      <td>0</td>\n",
       "      <td>0</td>\n",
       "      <td>0</td>\n",
       "      <td>0</td>\n",
       "      <td>1</td>\n",
       "      <td>0</td>\n",
       "      <td>1</td>\n",
       "      <td>0</td>\n",
       "      <td>0</td>\n",
       "    </tr>\n",
       "    <tr>\n",
       "      <th>4</th>\n",
       "      <td>0</td>\n",
       "      <td>0</td>\n",
       "      <td>1</td>\n",
       "      <td>0</td>\n",
       "      <td>0</td>\n",
       "      <td>0</td>\n",
       "      <td>0</td>\n",
       "      <td>0</td>\n",
       "      <td>1</td>\n",
       "    </tr>\n",
       "  </tbody>\n",
       "</table>\n",
       "</div>"
      ],
      "text/plain": [
       "   condition_1  condition_2  condition_3  condition_4  condition_5  \\\n",
       "0            0            0            1            0            0   \n",
       "1            0            0            1            0            0   \n",
       "2            0            0            1            0            0   \n",
       "3            0            0            0            0            1   \n",
       "4            0            0            1            0            0   \n",
       "\n",
       "   zipcode_bin_A  zipcode_bin_B  zipcode_bin_C  zipcode_bin_E  \n",
       "0              1              0              0              0  \n",
       "1              0              1              0              0  \n",
       "2              0              0              1              0  \n",
       "3              0              1              0              0  \n",
       "4              0              0              0              1  "
      ]
     },
     "execution_count": 53,
     "metadata": {},
     "output_type": "execute_result"
    }
   ],
   "source": [
    "one_hot_data=pd.get_dummies(data[categoricals])   # one hot encoding categorical variables\n",
    "\n",
    "one_hot_data.head()"
   ]
  },
  {
   "cell_type": "markdown",
   "id": "8e281840-5796-49a8-bb10-5c6fe7356aaa",
   "metadata": {
    "id": "Zc6XA2oYslvn"
   },
   "source": [
    "## Concat numerical and categorical "
   ]
  },
  {
   "cell_type": "code",
   "execution_count": 54,
   "id": "b94af09d-7ad6-4975-92af-b8c9706fd00a",
   "metadata": {
    "id": "PZX-Ooc8slvn",
    "outputId": "76f54c3f-f9a8-43c9-959b-075ab22b7e29",
    "tags": []
   },
   "outputs": [
    {
     "data": {
      "text/html": [
       "<div>\n",
       "<style scoped>\n",
       "    .dataframe tbody tr th:only-of-type {\n",
       "        vertical-align: middle;\n",
       "    }\n",
       "\n",
       "    .dataframe tbody tr th {\n",
       "        vertical-align: top;\n",
       "    }\n",
       "\n",
       "    .dataframe thead th {\n",
       "        text-align: right;\n",
       "    }\n",
       "</style>\n",
       "<table border=\"1\" class=\"dataframe\">\n",
       "  <thead>\n",
       "    <tr style=\"text-align: right;\">\n",
       "      <th></th>\n",
       "      <th>bedrooms</th>\n",
       "      <th>bathrooms</th>\n",
       "      <th>floors</th>\n",
       "      <th>waterfront</th>\n",
       "      <th>view</th>\n",
       "      <th>grade</th>\n",
       "      <th>sqft_above</th>\n",
       "      <th>sqft_basement</th>\n",
       "      <th>yr_built</th>\n",
       "      <th>yr_renovated</th>\n",
       "      <th>...</th>\n",
       "      <th>price</th>\n",
       "      <th>condition_1</th>\n",
       "      <th>condition_2</th>\n",
       "      <th>condition_3</th>\n",
       "      <th>condition_4</th>\n",
       "      <th>condition_5</th>\n",
       "      <th>zipcode_bin_A</th>\n",
       "      <th>zipcode_bin_B</th>\n",
       "      <th>zipcode_bin_C</th>\n",
       "      <th>zipcode_bin_E</th>\n",
       "    </tr>\n",
       "  </thead>\n",
       "  <tbody>\n",
       "    <tr>\n",
       "      <th>0</th>\n",
       "      <td>-0.367298</td>\n",
       "      <td>-1.450765</td>\n",
       "      <td>-0.887687</td>\n",
       "      <td>-0.064957</td>\n",
       "      <td>-0.281479</td>\n",
       "      <td>-0.507172</td>\n",
       "      <td>-0.705132</td>\n",
       "      <td>-0.674710</td>\n",
       "      <td>0.0</td>\n",
       "      <td>0.0</td>\n",
       "      <td>...</td>\n",
       "      <td>221900</td>\n",
       "      <td>0</td>\n",
       "      <td>0</td>\n",
       "      <td>1</td>\n",
       "      <td>0</td>\n",
       "      <td>0</td>\n",
       "      <td>1</td>\n",
       "      <td>0</td>\n",
       "      <td>0</td>\n",
       "      <td>0</td>\n",
       "    </tr>\n",
       "    <tr>\n",
       "      <th>1</th>\n",
       "      <td>-0.367298</td>\n",
       "      <td>0.262411</td>\n",
       "      <td>0.949239</td>\n",
       "      <td>-0.064957</td>\n",
       "      <td>-0.281479</td>\n",
       "      <td>-0.507172</td>\n",
       "      <td>0.687421</td>\n",
       "      <td>0.286731</td>\n",
       "      <td>0.0</td>\n",
       "      <td>0.0</td>\n",
       "      <td>...</td>\n",
       "      <td>538000</td>\n",
       "      <td>0</td>\n",
       "      <td>0</td>\n",
       "      <td>1</td>\n",
       "      <td>0</td>\n",
       "      <td>0</td>\n",
       "      <td>0</td>\n",
       "      <td>1</td>\n",
       "      <td>0</td>\n",
       "      <td>0</td>\n",
       "    </tr>\n",
       "    <tr>\n",
       "      <th>2</th>\n",
       "      <td>-1.448523</td>\n",
       "      <td>-1.450765</td>\n",
       "      <td>-0.887687</td>\n",
       "      <td>-0.064957</td>\n",
       "      <td>-0.281479</td>\n",
       "      <td>-1.466782</td>\n",
       "      <td>-1.281846</td>\n",
       "      <td>-0.674710</td>\n",
       "      <td>0.0</td>\n",
       "      <td>0.0</td>\n",
       "      <td>...</td>\n",
       "      <td>180000</td>\n",
       "      <td>0</td>\n",
       "      <td>0</td>\n",
       "      <td>1</td>\n",
       "      <td>0</td>\n",
       "      <td>0</td>\n",
       "      <td>0</td>\n",
       "      <td>0</td>\n",
       "      <td>1</td>\n",
       "      <td>0</td>\n",
       "    </tr>\n",
       "    <tr>\n",
       "      <th>3</th>\n",
       "      <td>0.713926</td>\n",
       "      <td>1.290316</td>\n",
       "      <td>-0.887687</td>\n",
       "      <td>-0.064957</td>\n",
       "      <td>-0.281479</td>\n",
       "      <td>-0.507172</td>\n",
       "      <td>-0.887993</td>\n",
       "      <td>1.512567</td>\n",
       "      <td>0.0</td>\n",
       "      <td>0.0</td>\n",
       "      <td>...</td>\n",
       "      <td>604000</td>\n",
       "      <td>0</td>\n",
       "      <td>0</td>\n",
       "      <td>0</td>\n",
       "      <td>0</td>\n",
       "      <td>1</td>\n",
       "      <td>0</td>\n",
       "      <td>1</td>\n",
       "      <td>0</td>\n",
       "      <td>0</td>\n",
       "    </tr>\n",
       "    <tr>\n",
       "      <th>4</th>\n",
       "      <td>-0.367298</td>\n",
       "      <td>-0.080224</td>\n",
       "      <td>-0.887687</td>\n",
       "      <td>-0.064957</td>\n",
       "      <td>-0.281479</td>\n",
       "      <td>0.452438</td>\n",
       "      <td>-0.001823</td>\n",
       "      <td>-0.674710</td>\n",
       "      <td>0.0</td>\n",
       "      <td>0.0</td>\n",
       "      <td>...</td>\n",
       "      <td>510000</td>\n",
       "      <td>0</td>\n",
       "      <td>0</td>\n",
       "      <td>1</td>\n",
       "      <td>0</td>\n",
       "      <td>0</td>\n",
       "      <td>0</td>\n",
       "      <td>0</td>\n",
       "      <td>0</td>\n",
       "      <td>1</td>\n",
       "    </tr>\n",
       "  </tbody>\n",
       "</table>\n",
       "<p>5 rows × 22 columns</p>\n",
       "</div>"
      ],
      "text/plain": [
       "   bedrooms  bathrooms    floors  waterfront      view     grade  sqft_above  \\\n",
       "0 -0.367298  -1.450765 -0.887687   -0.064957 -0.281479 -0.507172   -0.705132   \n",
       "1 -0.367298   0.262411  0.949239   -0.064957 -0.281479 -0.507172    0.687421   \n",
       "2 -1.448523  -1.450765 -0.887687   -0.064957 -0.281479 -1.466782   -1.281846   \n",
       "3  0.713926   1.290316 -0.887687   -0.064957 -0.281479 -0.507172   -0.887993   \n",
       "4 -0.367298  -0.080224 -0.887687   -0.064957 -0.281479  0.452438   -0.001823   \n",
       "\n",
       "   sqft_basement  yr_built  yr_renovated  ...   price  condition_1  \\\n",
       "0      -0.674710       0.0           0.0  ...  221900            0   \n",
       "1       0.286731       0.0           0.0  ...  538000            0   \n",
       "2      -0.674710       0.0           0.0  ...  180000            0   \n",
       "3       1.512567       0.0           0.0  ...  604000            0   \n",
       "4      -0.674710       0.0           0.0  ...  510000            0   \n",
       "\n",
       "   condition_2  condition_3  condition_4  condition_5  zipcode_bin_A  \\\n",
       "0            0            1            0            0              1   \n",
       "1            0            1            0            0              0   \n",
       "2            0            1            0            0              0   \n",
       "3            0            0            0            1              0   \n",
       "4            0            1            0            0              0   \n",
       "\n",
       "   zipcode_bin_B  zipcode_bin_C  zipcode_bin_E  \n",
       "0              0              0              0  \n",
       "1              1              0              0  \n",
       "2              0              1              0  \n",
       "3              1              0              0  \n",
       "4              0              0              1  \n",
       "\n",
       "[5 rows x 22 columns]"
      ]
     },
     "execution_count": 54,
     "metadata": {},
     "output_type": "execute_result"
    }
   ],
   "source": [
    "data=pd.concat([data, one_hot_data], axis=1)   # concat dataframes\n",
    "data.drop(columns=categoricals, inplace=True)\n",
    "data.head()"
   ]
  },
  {
   "cell_type": "markdown",
   "id": "d51a92bc-2edd-431b-a33e-c19914f41b5c",
   "metadata": {
    "tags": []
   },
   "source": [
    "## Modelo"
   ]
  },
  {
   "cell_type": "markdown",
   "id": "dde99be5-8ae7-4a42-a492-92ac99ccc038",
   "metadata": {},
   "source": [
    "#### Split into train and test"
   ]
  },
  {
   "cell_type": "code",
   "execution_count": 55,
   "id": "c6f34077-b039-474e-b6bf-6ac90723f34e",
   "metadata": {},
   "outputs": [
    {
     "name": "stdout",
     "output_type": "stream",
     "text": [
      "(19040, 21)\n",
      "(19040,)\n"
     ]
    }
   ],
   "source": [
    "# first, split X-y (learning-target data)\n",
    "X= data.drop(columns=['price'])\n",
    "y= data['price']\n",
    "\n",
    "# checking shape\n",
    "print(X.shape)\n",
    "print(y.shape)"
   ]
  },
  {
   "cell_type": "code",
   "execution_count": 56,
   "id": "5d0828bc-e61b-4e23-bfd6-1a422f2bbac2",
   "metadata": {},
   "outputs": [],
   "source": [
    "# train_test_split\n",
    "from sklearn.model_selection import train_test_split as tts\n",
    "X_train, X_test, y_train, y_test = tts(X, y, test_size=0.2, random_state=42)"
   ]
  },
  {
   "cell_type": "markdown",
   "id": "3be085e9-dc39-408b-94ee-f5c11f32c2fd",
   "metadata": {},
   "source": [
    "#### Modeling"
   ]
  },
  {
   "cell_type": "markdown",
   "id": "ca389f54-7c25-4028-a2ba-f94a1535ff0b",
   "metadata": {
    "id": "rowfgcJMslvo",
    "tags": []
   },
   "source": [
    "### Linear Regression"
   ]
  },
  {
   "cell_type": "code",
   "execution_count": 57,
   "id": "1e744b4b-8291-43cd-9cd5-0f042a08d2ed",
   "metadata": {
    "id": "If5Jnjwfslvo",
    "tags": []
   },
   "outputs": [],
   "source": [
    "from sklearn.linear_model import LinearRegression as LinReg\n",
    "linreg=LinReg()    # model\n",
    "linreg.fit(X_train, y_train)   # model train\n",
    "y_pred_linreg=linreg.predict(X_test)   # model prediction"
   ]
  },
  {
   "cell_type": "markdown",
   "id": "7f13201f-e18f-4905-ba56-9ff0e7bd3e42",
   "metadata": {
    "id": "EQMaBQCcslvp"
   },
   "source": [
    "### Regulation"
   ]
  },
  {
   "cell_type": "code",
   "execution_count": 58,
   "id": "60de9be4-a346-4da2-80a8-df19f3179227",
   "metadata": {},
   "outputs": [],
   "source": [
    "from sklearn.linear_model import Lasso     \n",
    "from sklearn.linear_model import Ridge       \n",
    "from sklearn.linear_model import ElasticNet"
   ]
  },
  {
   "cell_type": "code",
   "execution_count": 59,
   "id": "21778e3d-6009-436e-a606-fff5e2db2dc9",
   "metadata": {},
   "outputs": [],
   "source": [
    "# Lasso L1\n",
    "\n",
    "lasso=Lasso()\n",
    "lasso.fit(X_train, y_train)\n",
    "\n",
    "y_pred_lasso = lasso.predict(X_test)"
   ]
  },
  {
   "cell_type": "code",
   "execution_count": 60,
   "id": "341d1c2a-b1a2-4c3e-ad03-759024853734",
   "metadata": {},
   "outputs": [],
   "source": [
    "# Ridge L2\n",
    "\n",
    "ridge=Ridge()\n",
    "ridge.fit(X_train, y_train)\n",
    "\n",
    "y_pred_ridge = ridge.predict(X_test)"
   ]
  },
  {
   "cell_type": "code",
   "execution_count": 61,
   "id": "54819e9c-dd1b-48d1-9443-d04a726b544c",
   "metadata": {},
   "outputs": [],
   "source": [
    "# ElasticNet L1+L2\n",
    "\n",
    "elastic=ElasticNet()\n",
    "elastic.fit(X_train, y_train)\n",
    "\n",
    "y_pred_elastic = elastic.predict(X_test)"
   ]
  },
  {
   "cell_type": "markdown",
   "id": "51c6a432-f6a5-4f44-a09b-7d68e171287f",
   "metadata": {
    "id": "tHbge_Grslvp",
    "tags": []
   },
   "source": [
    "### Random Forest Regressor"
   ]
  },
  {
   "cell_type": "code",
   "execution_count": 62,
   "id": "ab42e73d-7c52-4bca-ae74-b540cc9d462e",
   "metadata": {
    "id": "aar7XyS6slvq",
    "tags": []
   },
   "outputs": [],
   "source": [
    "from sklearn.ensemble import RandomForestRegressor as RFR\n",
    "\n",
    "rfr=RFR()\n",
    "rfr.fit(X_train, y_train)\n",
    "\n",
    "y_pred_rfr = rfr.predict(X_test)"
   ]
  },
  {
   "cell_type": "markdown",
   "id": "9db01560-799e-40a6-bc08-c0baf3ddb6f6",
   "metadata": {
    "id": "8tKm26n9slvq",
    "tags": []
   },
   "source": [
    "### XGBoost"
   ]
  },
  {
   "cell_type": "code",
   "execution_count": 63,
   "id": "d2181741-ea7a-4434-bfb2-584b34853190",
   "metadata": {
    "id": "zutOTjO_slvq",
    "tags": []
   },
   "outputs": [
    {
     "name": "stderr",
     "output_type": "stream",
     "text": [
      "C:\\Users\\CG921YH\\Anaconda3\\lib\\site-packages\\xgboost\\compat.py:36: FutureWarning: pandas.Int64Index is deprecated and will be removed from pandas in a future version. Use pandas.Index with the appropriate dtype instead.\n",
      "  from pandas import MultiIndex, Int64Index\n",
      "C:\\Users\\CG921YH\\Anaconda3\\lib\\site-packages\\xgboost\\data.py:250: FutureWarning: pandas.Int64Index is deprecated and will be removed from pandas in a future version. Use pandas.Index with the appropriate dtype instead.\n",
      "  elif isinstance(data.columns, (pd.Int64Index, pd.RangeIndex)):\n"
     ]
    }
   ],
   "source": [
    "# conda install -c conda-forge xgboost\n",
    "\n",
    "from xgboost import XGBRegressor as XGBR\n",
    "\n",
    "xgbr=XGBR()\n",
    "xgbr.fit(X_train, y_train)\n",
    "\n",
    "y_pred_xgbr = xgbr.predict(X_test)"
   ]
  },
  {
   "cell_type": "markdown",
   "id": "a7b16703-60c0-4334-b50e-c26c763cd9f0",
   "metadata": {
    "id": "p5wDjKPvslvr",
    "tags": []
   },
   "source": [
    "### LightGBM"
   ]
  },
  {
   "cell_type": "code",
   "execution_count": 64,
   "id": "81c3e4fa-9175-4b67-ac7a-974e768b8034",
   "metadata": {
    "id": "8M8bi7BPslvr",
    "tags": []
   },
   "outputs": [],
   "source": [
    "# conda install -c conda-forge lightgbm\n",
    "from lightgbm import LGBMRegressor as LGBMR\n",
    "\n",
    "lgbmr=LGBMR()\n",
    "lgbmr.fit(X_train, y_train)\n",
    "\n",
    "y_pred_lgbmr = lgbmr.predict(X_test)"
   ]
  },
  {
   "cell_type": "markdown",
   "id": "1662d735-256e-4f96-b1d4-a28e99b93e98",
   "metadata": {
    "id": "HUpuYwDdslvr"
   },
   "source": [
    "## Model Validation"
   ]
  },
  {
   "cell_type": "code",
   "execution_count": 65,
   "id": "a1f9fe5c-80ca-40eb-9bfd-93ce829ddf03",
   "metadata": {
    "id": "hAyfhBJpslvr"
   },
   "outputs": [],
   "source": [
    "models=[linreg, lasso, ridge, elastic, rfr, xgbr, lgbmr]\n",
    "model_names=['linreg', 'lasso', 'ridge', 'elastic', 'rfr', 'xgbr', 'lgbmr']\n",
    "preds=[y_pred_linreg, y_pred_lasso, y_pred_ridge, y_pred_elastic, y_pred_rfr, y_pred_xgbr, y_pred_lgbmr]"
   ]
  },
  {
   "cell_type": "markdown",
   "id": "bd9e01a2-4285-4262-8bad-c5107cfbcfb6",
   "metadata": {
    "id": "7u7hsx4gslvs"
   },
   "source": [
    "### R2"
   ]
  },
  {
   "cell_type": "code",
   "execution_count": 66,
   "id": "3ee79ce5-5ecb-489f-926a-8a0462f0b499",
   "metadata": {
    "id": "7hm7kVVoslvs",
    "outputId": "fc31f046-d628-4bc5-c432-cbfd50001a33"
   },
   "outputs": [
    {
     "name": "stdout",
     "output_type": "stream",
     "text": [
      "Model: linreg, train R2: 0.5800327021672608 -- test R2: 0.5746967169377576\n",
      "Model: lasso, train R2: 0.5800326951209411 -- test R2: 0.5746958042766928\n",
      "Model: ridge, train R2: 0.5800326836739333 -- test R2: 0.574696400945502\n",
      "Model: elastic, train R2: 0.5306185208339957 -- test R2: 0.5311911253177951\n",
      "Model: rfr, train R2: 0.9557633813284218 -- test R2: 0.6609764806810312\n",
      "Model: xgbr, train R2: 0.8793962228192234 -- test R2: 0.6284525623554598\n",
      "Model: lgbmr, train R2: 0.800889398288118 -- test R2: 0.6633710031445617\n"
     ]
    }
   ],
   "source": [
    "for i in range(len(models)):\n",
    "\n",
    "    train_score=models[i].score(X_train, y_train) #R2\n",
    "    test_score=models[i].score(X_test, y_test)\n",
    "\n",
    "    print ('Model: {}, train R2: {} -- test R2: {}'.format(model_names[i], train_score, test_score))"
   ]
  },
  {
   "cell_type": "markdown",
   "id": "68d26427-4f05-4183-bcb9-a403d8dd3e68",
   "metadata": {
    "id": "BmTdg2KBslvs"
   },
   "source": [
    "### MSE"
   ]
  },
  {
   "cell_type": "code",
   "execution_count": 67,
   "id": "cf61a0cb-14ff-4483-b4c3-07bbb0a430fd",
   "metadata": {
    "id": "JTlnvbEEslvs",
    "outputId": "53490d15-ce3d-4095-8613-8826809508b6"
   },
   "outputs": [
    {
     "name": "stdout",
     "output_type": "stream",
     "text": [
      "Model: linreg, train MSE: 37154654914.5322 -- test MSE: 37952345344.28338\n",
      "Model: lasso, train MSE: 37154655537.92259 -- test MSE: 37952426786.46662\n",
      "Model: ridge, train MSE: 37154656550.6434 -- test MSE: 37952373542.15461\n",
      "Model: elastic, train MSE: 41526344959.91472 -- test MSE: 41834608433.530525\n",
      "Model: rfr, train MSE: 3913629251.158594 -- test MSE: 30253088084.30902\n",
      "Model: xgbr, train MSE: 10669858690.581999 -- test MSE: 33155391051.1561\n",
      "Model: lgbmr, train MSE: 17615385137.383255 -- test MSE: 30039410581.478058\n"
     ]
    }
   ],
   "source": [
    "from sklearn.metrics import mean_squared_error as mse\n",
    "\n",
    "for i in range(len(models)):\n",
    "\n",
    "    train_mse=mse(models[i].predict(X_train), y_train) #MSE\n",
    "    test_mse=mse(preds[i], y_test)\n",
    "\n",
    "    print ('Model: {}, train MSE: {} -- test MSE: {}'.format(model_names[i], train_mse, test_mse))"
   ]
  },
  {
   "cell_type": "markdown",
   "id": "62bffcc8-c15c-4ad0-8390-0cc993f7c6ca",
   "metadata": {
    "id": "avmkx5vislvs"
   },
   "source": [
    "### RMSE"
   ]
  },
  {
   "cell_type": "code",
   "execution_count": 68,
   "id": "7996432c-abb3-4e15-9405-251650963064",
   "metadata": {
    "id": "QFXp9d0Tslvs",
    "outputId": "65747ec7-ddb2-49cd-de84-f92a287391cb"
   },
   "outputs": [
    {
     "name": "stdout",
     "output_type": "stream",
     "text": [
      "Model: linreg, train RMSE: 192755.42771743733 -- test RMSE: 194813.6169375318\n",
      "Model: lasso, train RMSE: 192755.42933448747 -- test RMSE: 194813.82596331972\n",
      "Model: ridge, train RMSE: 192755.4319614454 -- test RMSE: 194813.68930892565\n",
      "Model: elastic, train RMSE: 203780.13877685607 -- test RMSE: 204535.10318165566\n",
      "Model: rfr, train RMSE: 62559.0061554577 -- test RMSE: 173934.1487009064\n",
      "Model: xgbr, train RMSE: 103295.00806225826 -- test RMSE: 182086.21872935936\n",
      "Model: lgbmr, train RMSE: 132722.96386602905 -- test RMSE: 173318.81196649733\n"
     ]
    }
   ],
   "source": [
    "for i in range(len(models)):\n",
    "\n",
    "    train_rmse=mse(models[i].predict(X_train), y_train)**0.5 #RMSE\n",
    "    test_rmse=mse(preds[i], y_test)**0.5\n",
    "\n",
    "    print ('Model: {}, train RMSE: {} -- test RMSE: {}'.format(model_names[i], train_rmse, test_rmse))"
   ]
  },
  {
   "cell_type": "markdown",
   "id": "a2a88873-c028-4c57-bc88-9e0ec49b7e3d",
   "metadata": {
    "id": "45WqpCyFslvt"
   },
   "source": [
    "### MAE"
   ]
  },
  {
   "cell_type": "code",
   "execution_count": 69,
   "id": "da5d3d8e-3fc3-4cce-85ff-1be9244e9485",
   "metadata": {
    "id": "rUMkbq13slvt",
    "outputId": "76cb43b8-b302-42bd-bb5b-5a0dca77964d",
    "tags": []
   },
   "outputs": [
    {
     "name": "stdout",
     "output_type": "stream",
     "text": [
      "Model: linreg, train MAE: 133882.85584505872 -- test MAE: 133254.32209737427\n",
      "Model: lasso, train MAE: 133882.70693770482 -- test MAE: 133254.46290734663\n",
      "Model: ridge, train MAE: 133881.49223429436 -- test MAE: 133252.74277257416\n",
      "Model: elastic, train MAE: 138990.0720169883 -- test MAE: 137131.13206972578\n",
      "Model: rfr, train MAE: 40920.97417620903 -- test MAE: 113442.67773882886\n",
      "Model: xgbr, train MAE: 77685.96923981995 -- test MAE: 117054.5942936745\n",
      "Model: lgbmr, train MAE: 97182.88387086634 -- test MAE: 114527.70675366705\n"
     ]
    }
   ],
   "source": [
    "from sklearn.metrics import mean_absolute_error as mae\n",
    "for i in range(len(models)):\n",
    "    train_mae=mae(models[i].predict(X_train), y_train) #MAE\n",
    "    test_mae=mae(preds[i], y_test)\n",
    "\n",
    "    print ('Model: {}, train MAE: {} -- test MAE: {}'.format(model_names[i], train_mae, test_mae))"
   ]
  }
 ],
 "metadata": {
  "kernelspec": {
   "display_name": "Python 3 (ipykernel)",
   "language": "python",
   "name": "python3"
  },
  "language_info": {
   "codemirror_mode": {
    "name": "ipython",
    "version": 3
   },
   "file_extension": ".py",
   "mimetype": "text/x-python",
   "name": "python",
   "nbconvert_exporter": "python",
   "pygments_lexer": "ipython3",
   "version": "3.9.12"
  }
 },
 "nbformat": 4,
 "nbformat_minor": 5
}
